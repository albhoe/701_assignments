{
  "nbformat": 4,
  "nbformat_minor": 0,
  "metadata": {
    "colab": {
      "provenance": [],
      "authorship_tag": "ABX9TyPkT4MLJtNoth0q5u0Uzts6",
      "include_colab_link": true
    },
    "kernelspec": {
      "name": "python3",
      "display_name": "Python 3"
    },
    "language_info": {
      "name": "python"
    }
  },
  "cells": [
    {
      "cell_type": "markdown",
      "metadata": {
        "id": "view-in-github",
        "colab_type": "text"
      },
      "source": [
        "<a href=\"https://colab.research.google.com/github/albhoe/701_assignments/blob/main/project/911Call.ipynb\" target=\"_parent\"><img src=\"https://colab.research.google.com/assets/colab-badge.svg\" alt=\"Open In Colab\"/></a>"
      ]
    },
    {
      "cell_type": "code",
      "source": [
        "!pip install arcgis"
      ],
      "metadata": {
        "colab": {
          "base_uri": "https://localhost:8080/"
        },
        "id": "ncC8XdgzsNEh",
        "outputId": "4c810960-f19c-45d5-b4f3-a48314321f24"
      },
      "execution_count": 2,
      "outputs": [
        {
          "output_type": "stream",
          "name": "stdout",
          "text": [
            "Requirement already satisfied: arcgis in /usr/local/lib/python3.12/dist-packages (2.4.1.3)\n",
            "Requirement already satisfied: pillow in /usr/local/lib/python3.12/dist-packages (from arcgis) (11.3.0)\n",
            "Requirement already satisfied: urllib3<3,>=2.1.0 in /usr/local/lib/python3.12/dist-packages (from arcgis) (2.5.0)\n",
            "Requirement already satisfied: cachetools in /usr/local/lib/python3.12/dist-packages (from arcgis) (5.5.2)\n",
            "Requirement already satisfied: lxml in /usr/local/lib/python3.12/dist-packages (from arcgis) (5.4.0)\n",
            "Requirement already satisfied: cryptography in /usr/local/lib/python3.12/dist-packages (from arcgis) (43.0.3)\n",
            "Requirement already satisfied: pandas<2.3.0,>=2.0.0 in /usr/local/lib/python3.12/dist-packages (from arcgis) (2.2.2)\n",
            "Requirement already satisfied: numpy<2,>=1.21.6 in /usr/local/lib/python3.12/dist-packages (from arcgis) (1.26.4)\n",
            "Requirement already satisfied: matplotlib in /usr/local/lib/python3.12/dist-packages (from arcgis) (3.10.0)\n",
            "Requirement already satisfied: keyring>=23.3.0 in /usr/local/lib/python3.12/dist-packages (from arcgis) (25.6.0)\n",
            "Requirement already satisfied: pylerc in /usr/local/lib/python3.12/dist-packages (from arcgis) (4.0)\n",
            "Requirement already satisfied: ujson>=3 in /usr/local/lib/python3.12/dist-packages (from arcgis) (5.11.0)\n",
            "Requirement already satisfied: truststore>=0.10.0 in /usr/local/lib/python3.12/dist-packages (from arcgis) (0.10.4)\n",
            "Requirement already satisfied: geomet in /usr/local/lib/python3.12/dist-packages (from arcgis) (1.1.0)\n",
            "Requirement already satisfied: requests<3,>=2.32.3 in /usr/local/lib/python3.12/dist-packages (from arcgis) (2.32.4)\n",
            "Requirement already satisfied: requests-oauthlib in /usr/local/lib/python3.12/dist-packages (from arcgis) (2.0.0)\n",
            "Requirement already satisfied: requests_toolbelt in /usr/local/lib/python3.12/dist-packages (from arcgis) (1.0.0)\n",
            "Requirement already satisfied: pyspnego>=0.8.0 in /usr/local/lib/python3.12/dist-packages (from arcgis) (0.12.0)\n",
            "Requirement already satisfied: dask<2025.1.0,>=2024.12.1 in /usr/local/lib/python3.12/dist-packages (from dask[dataframe]<2025.1.0,>=2024.12.1->arcgis) (2024.12.1)\n",
            "Requirement already satisfied: matplotlib-inline in /usr/local/lib/python3.12/dist-packages (from arcgis) (0.1.7)\n",
            "Requirement already satisfied: pyarrow<17,>=16 in /usr/local/lib/python3.12/dist-packages (from arcgis) (16.1.0)\n",
            "Requirement already satisfied: puremagic<2,>=1.15 in /usr/local/lib/python3.12/dist-packages (from arcgis) (1.30)\n",
            "Requirement already satisfied: pydantic<3,>=2.8.2 in /usr/local/lib/python3.12/dist-packages (from arcgis) (2.11.9)\n",
            "Requirement already satisfied: networkx<4,>=3.3 in /usr/local/lib/python3.12/dist-packages (from arcgis) (3.5)\n",
            "Requirement already satisfied: websocket-client<2.0.0,>=1.2.3 in /usr/local/lib/python3.12/dist-packages (from arcgis) (1.8.0)\n",
            "Requirement already satisfied: click>=8.1 in /usr/local/lib/python3.12/dist-packages (from dask<2025.1.0,>=2024.12.1->dask[dataframe]<2025.1.0,>=2024.12.1->arcgis) (8.2.1)\n",
            "Requirement already satisfied: cloudpickle>=3.0.0 in /usr/local/lib/python3.12/dist-packages (from dask<2025.1.0,>=2024.12.1->dask[dataframe]<2025.1.0,>=2024.12.1->arcgis) (3.1.1)\n",
            "Requirement already satisfied: fsspec>=2021.09.0 in /usr/local/lib/python3.12/dist-packages (from dask<2025.1.0,>=2024.12.1->dask[dataframe]<2025.1.0,>=2024.12.1->arcgis) (2025.3.0)\n",
            "Requirement already satisfied: packaging>=20.0 in /usr/local/lib/python3.12/dist-packages (from dask<2025.1.0,>=2024.12.1->dask[dataframe]<2025.1.0,>=2024.12.1->arcgis) (25.0)\n",
            "Requirement already satisfied: partd>=1.4.0 in /usr/local/lib/python3.12/dist-packages (from dask<2025.1.0,>=2024.12.1->dask[dataframe]<2025.1.0,>=2024.12.1->arcgis) (1.4.2)\n",
            "Requirement already satisfied: pyyaml>=5.3.1 in /usr/local/lib/python3.12/dist-packages (from dask<2025.1.0,>=2024.12.1->dask[dataframe]<2025.1.0,>=2024.12.1->arcgis) (6.0.2)\n",
            "Requirement already satisfied: toolz>=0.10.0 in /usr/local/lib/python3.12/dist-packages (from dask<2025.1.0,>=2024.12.1->dask[dataframe]<2025.1.0,>=2024.12.1->arcgis) (0.12.1)\n",
            "Requirement already satisfied: dask-expr<1.2,>=1.1 in /usr/local/lib/python3.12/dist-packages (from dask[dataframe]<2025.1.0,>=2024.12.1->arcgis) (1.1.21)\n",
            "Requirement already satisfied: SecretStorage>=3.2 in /usr/local/lib/python3.12/dist-packages (from keyring>=23.3.0->arcgis) (3.4.0)\n",
            "Requirement already satisfied: jeepney>=0.4.2 in /usr/local/lib/python3.12/dist-packages (from keyring>=23.3.0->arcgis) (0.9.0)\n",
            "Requirement already satisfied: jaraco.classes in /usr/local/lib/python3.12/dist-packages (from keyring>=23.3.0->arcgis) (3.4.0)\n",
            "Requirement already satisfied: jaraco.functools in /usr/local/lib/python3.12/dist-packages (from keyring>=23.3.0->arcgis) (4.3.0)\n",
            "Requirement already satisfied: jaraco.context in /usr/local/lib/python3.12/dist-packages (from keyring>=23.3.0->arcgis) (6.0.1)\n",
            "Requirement already satisfied: python-dateutil>=2.8.2 in /usr/local/lib/python3.12/dist-packages (from pandas<2.3.0,>=2.0.0->arcgis) (2.9.0.post0)\n",
            "Requirement already satisfied: pytz>=2020.1 in /usr/local/lib/python3.12/dist-packages (from pandas<2.3.0,>=2.0.0->arcgis) (2025.2)\n",
            "Requirement already satisfied: tzdata>=2022.7 in /usr/local/lib/python3.12/dist-packages (from pandas<2.3.0,>=2.0.0->arcgis) (2025.2)\n",
            "Requirement already satisfied: annotated-types>=0.6.0 in /usr/local/lib/python3.12/dist-packages (from pydantic<3,>=2.8.2->arcgis) (0.7.0)\n",
            "Requirement already satisfied: pydantic-core==2.33.2 in /usr/local/lib/python3.12/dist-packages (from pydantic<3,>=2.8.2->arcgis) (2.33.2)\n",
            "Requirement already satisfied: typing-extensions>=4.12.2 in /usr/local/lib/python3.12/dist-packages (from pydantic<3,>=2.8.2->arcgis) (4.15.0)\n",
            "Requirement already satisfied: typing-inspection>=0.4.0 in /usr/local/lib/python3.12/dist-packages (from pydantic<3,>=2.8.2->arcgis) (0.4.1)\n",
            "Requirement already satisfied: charset_normalizer<4,>=2 in /usr/local/lib/python3.12/dist-packages (from requests<3,>=2.32.3->arcgis) (3.4.3)\n",
            "Requirement already satisfied: idna<4,>=2.5 in /usr/local/lib/python3.12/dist-packages (from requests<3,>=2.32.3->arcgis) (3.10)\n",
            "Requirement already satisfied: certifi>=2017.4.17 in /usr/local/lib/python3.12/dist-packages (from requests<3,>=2.32.3->arcgis) (2025.8.3)\n",
            "Requirement already satisfied: cffi>=1.12 in /usr/local/lib/python3.12/dist-packages (from cryptography->arcgis) (2.0.0)\n",
            "Requirement already satisfied: contourpy>=1.0.1 in /usr/local/lib/python3.12/dist-packages (from matplotlib->arcgis) (1.3.3)\n",
            "Requirement already satisfied: cycler>=0.10 in /usr/local/lib/python3.12/dist-packages (from matplotlib->arcgis) (0.12.1)\n",
            "Requirement already satisfied: fonttools>=4.22.0 in /usr/local/lib/python3.12/dist-packages (from matplotlib->arcgis) (4.60.0)\n",
            "Requirement already satisfied: kiwisolver>=1.3.1 in /usr/local/lib/python3.12/dist-packages (from matplotlib->arcgis) (1.4.9)\n",
            "Requirement already satisfied: pyparsing>=2.3.1 in /usr/local/lib/python3.12/dist-packages (from matplotlib->arcgis) (3.2.4)\n",
            "Requirement already satisfied: traitlets in /usr/local/lib/python3.12/dist-packages (from matplotlib-inline->arcgis) (5.7.1)\n",
            "Requirement already satisfied: oauthlib>=3.0.0 in /usr/local/lib/python3.12/dist-packages (from requests-oauthlib->arcgis) (3.3.1)\n",
            "Requirement already satisfied: pycparser in /usr/local/lib/python3.12/dist-packages (from cffi>=1.12->cryptography->arcgis) (2.23)\n",
            "Requirement already satisfied: locket in /usr/local/lib/python3.12/dist-packages (from partd>=1.4.0->dask<2025.1.0,>=2024.12.1->dask[dataframe]<2025.1.0,>=2024.12.1->arcgis) (1.0.0)\n",
            "Requirement already satisfied: six>=1.5 in /usr/local/lib/python3.12/dist-packages (from python-dateutil>=2.8.2->pandas<2.3.0,>=2.0.0->arcgis) (1.17.0)\n",
            "Requirement already satisfied: more-itertools in /usr/local/lib/python3.12/dist-packages (from jaraco.classes->keyring>=23.3.0->arcgis) (10.8.0)\n"
          ]
        }
      ]
    },
    {
      "cell_type": "code",
      "execution_count": 3,
      "metadata": {
        "id": "xB_iiBQSOBWu"
      },
      "outputs": [],
      "source": [
        "import numpy as np\n",
        "import pandas as pd\n",
        "import datetime\n",
        "import requests\n",
        "from arcgis.gis import GIS\n",
        "from pathlib import Path\n",
        "from zipfile import ZipFile"
      ]
    },
    {
      "cell_type": "code",
      "source": [
        "def UpdateBlockGroups():\n",
        "\n",
        "  gis = GIS()\n",
        "\n",
        "  public_data_item_id = '11a91a31e9fd40b3b2a56d88a7773304'\n",
        "\n",
        "  data_item = gis.content.get(public_data_item_id)\n",
        "  data_path = Path('')\n",
        "  if not data_path.exists():\n",
        "      data_path.mkdir()\n",
        "  zip_path = data_path.joinpath('USA_Block_Groups_v1.zip')\n",
        "  extract_path = data_path.joinpath('USA_Block_Groups_v1')\n",
        "  data_item.download(save_path=data_path)\n",
        "\n",
        "  zip_file = ZipFile(zip_path)\n",
        "  #zip_file.extractall(path=data_path)\n",
        "  #files = [file.name for file in extract_path.glob('*')]\n",
        "  #print(files)\n",
        "\n",
        "  def BlockGrouptoCoord(blockgroup:int):\n",
        "    df = pd.read_csv('./data/USA_Block_Groups_v1')\n",
        "    display(df)\n",
        "    return 0,0\n",
        "\n",
        "UpdateBlockGroups()\n",
        "BlockGrouptoCoord(0)"
      ],
      "metadata": {
        "colab": {
          "base_uri": "https://localhost:8080/",
          "height": 391
        },
        "id": "ZewARRvVmum-",
        "outputId": "2c12e73e-d3b8-4ede-d2d1-0c4dc6ff3ccd"
      },
      "execution_count": 25,
      "outputs": [
        {
          "output_type": "error",
          "ename": "FileNotFoundError",
          "evalue": "[Errno 2] No such file or directory: 'USA_Block_Groups_v1.zip'",
          "traceback": [
            "\u001b[0;31m---------------------------------------------------------------------------\u001b[0m",
            "\u001b[0;31mFileNotFoundError\u001b[0m                         Traceback (most recent call last)",
            "\u001b[0;32m/tmp/ipython-input-4171762805.py\u001b[0m in \u001b[0;36m<cell line: 0>\u001b[0;34m()\u001b[0m\n\u001b[1;32m     23\u001b[0m     \u001b[0;32mreturn\u001b[0m \u001b[0;36m0\u001b[0m\u001b[0;34m,\u001b[0m\u001b[0;36m0\u001b[0m\u001b[0;34m\u001b[0m\u001b[0;34m\u001b[0m\u001b[0m\n\u001b[1;32m     24\u001b[0m \u001b[0;34m\u001b[0m\u001b[0m\n\u001b[0;32m---> 25\u001b[0;31m \u001b[0mUpdateBlockGroups\u001b[0m\u001b[0;34m(\u001b[0m\u001b[0;34m)\u001b[0m\u001b[0;34m\u001b[0m\u001b[0;34m\u001b[0m\u001b[0m\n\u001b[0m\u001b[1;32m     26\u001b[0m \u001b[0mBlockGrouptoCoord\u001b[0m\u001b[0;34m(\u001b[0m\u001b[0;36m0\u001b[0m\u001b[0;34m)\u001b[0m\u001b[0;34m\u001b[0m\u001b[0;34m\u001b[0m\u001b[0m\n",
            "\u001b[0;32m/tmp/ipython-input-4171762805.py\u001b[0m in \u001b[0;36mUpdateBlockGroups\u001b[0;34m()\u001b[0m\n\u001b[1;32m     13\u001b[0m   \u001b[0mdata_item\u001b[0m\u001b[0;34m.\u001b[0m\u001b[0mdownload\u001b[0m\u001b[0;34m(\u001b[0m\u001b[0msave_path\u001b[0m\u001b[0;34m=\u001b[0m\u001b[0mdata_path\u001b[0m\u001b[0;34m)\u001b[0m\u001b[0;34m\u001b[0m\u001b[0;34m\u001b[0m\u001b[0m\n\u001b[1;32m     14\u001b[0m \u001b[0;34m\u001b[0m\u001b[0m\n\u001b[0;32m---> 15\u001b[0;31m   \u001b[0mzip_file\u001b[0m \u001b[0;34m=\u001b[0m \u001b[0mZipFile\u001b[0m\u001b[0;34m(\u001b[0m\u001b[0mzip_path\u001b[0m\u001b[0;34m)\u001b[0m\u001b[0;34m\u001b[0m\u001b[0;34m\u001b[0m\u001b[0m\n\u001b[0m\u001b[1;32m     16\u001b[0m   \u001b[0;31m#zip_file.extractall(path=data_path)\u001b[0m\u001b[0;34m\u001b[0m\u001b[0;34m\u001b[0m\u001b[0m\n\u001b[1;32m     17\u001b[0m   \u001b[0;31m#files = [file.name for file in extract_path.glob('*')]\u001b[0m\u001b[0;34m\u001b[0m\u001b[0;34m\u001b[0m\u001b[0m\n",
            "\u001b[0;32m/usr/lib/python3.12/zipfile/__init__.py\u001b[0m in \u001b[0;36m__init__\u001b[0;34m(self, file, mode, compression, allowZip64, compresslevel, strict_timestamps, metadata_encoding)\u001b[0m\n\u001b[1;32m   1334\u001b[0m             \u001b[0;32mwhile\u001b[0m \u001b[0;32mTrue\u001b[0m\u001b[0;34m:\u001b[0m\u001b[0;34m\u001b[0m\u001b[0;34m\u001b[0m\u001b[0m\n\u001b[1;32m   1335\u001b[0m                 \u001b[0;32mtry\u001b[0m\u001b[0;34m:\u001b[0m\u001b[0;34m\u001b[0m\u001b[0;34m\u001b[0m\u001b[0m\n\u001b[0;32m-> 1336\u001b[0;31m                     \u001b[0mself\u001b[0m\u001b[0;34m.\u001b[0m\u001b[0mfp\u001b[0m \u001b[0;34m=\u001b[0m \u001b[0mio\u001b[0m\u001b[0;34m.\u001b[0m\u001b[0mopen\u001b[0m\u001b[0;34m(\u001b[0m\u001b[0mfile\u001b[0m\u001b[0;34m,\u001b[0m \u001b[0mfilemode\u001b[0m\u001b[0;34m)\u001b[0m\u001b[0;34m\u001b[0m\u001b[0;34m\u001b[0m\u001b[0m\n\u001b[0m\u001b[1;32m   1337\u001b[0m                 \u001b[0;32mexcept\u001b[0m \u001b[0mOSError\u001b[0m\u001b[0;34m:\u001b[0m\u001b[0;34m\u001b[0m\u001b[0;34m\u001b[0m\u001b[0m\n\u001b[1;32m   1338\u001b[0m                     \u001b[0;32mif\u001b[0m \u001b[0mfilemode\u001b[0m \u001b[0;32min\u001b[0m \u001b[0mmodeDict\u001b[0m\u001b[0;34m:\u001b[0m\u001b[0;34m\u001b[0m\u001b[0;34m\u001b[0m\u001b[0m\n",
            "\u001b[0;31mFileNotFoundError\u001b[0m: [Errno 2] No such file or directory: 'USA_Block_Groups_v1.zip'"
          ]
        }
      ]
    },
    {
      "cell_type": "code",
      "source": [
        "def UpdateAnalyzeBoston():\n",
        "  #\"\"\"Downloads the latest 911 dispatch data and updates the DataFrame.\"\"\"\n",
        "  url = \"https://data.boston.gov/dataset/17129fad-fff9-4eac-ad74-51fb4bf63c22/resource/2459542e-7026-48e2-9128-ca29dd3bebf8/download/911-daily-dispatch-count-by-agency.csv\"\n",
        "  try:\n",
        "    response = requests.get(url)\n",
        "    response.raise_for_status()  # Raise an exception for bad status codes\n",
        "\n",
        "    # Assuming the data is a CSV, load it into a pandas DataFrame\n",
        "    with open(\"/content/911-daily-dispatch-count-by-agency.csv\", \"wb\") as f:\n",
        "      f.write(response.content)\n",
        "\n",
        "  except requests.exceptions.RequestException as e:\n",
        "    print(f\"Error downloading data: {e}\")\n",
        "  except Exception as e:\n",
        "    print(f\"An error occurred: {e}\")"
      ],
      "metadata": {
        "id": "8uTGnxbQelxe"
      },
      "execution_count": null,
      "outputs": []
    },
    {
      "cell_type": "code",
      "source": [
        "def UpdateAustinTexas():\n",
        "  #\"\"\"Downloads the latest 911 dispatch data and updates the DataFrame.\"\"\"\n",
        "  url = \"https://data.austintexas.gov/resource/fsje-8gq2.csv\"\n",
        "  try:\n",
        "    response = requests.get(url)\n",
        "    response.raise_for_status()  # Raise an exception for bad status codes\n",
        "\n",
        "    # Assuming the data is a CSV, load it into a pandas DataFrame\n",
        "    with open(\"/content/APDAverageResponseTimebyDayandHour.csv\", \"wb\") as f:\n",
        "      f.write(response.content)\n",
        "\n",
        "  except requests.exceptions.RequestException as e:\n",
        "    print(f\"Error downloading data: {e}\")\n",
        "  except Exception as e:\n",
        "    print(f\"An error occurred: {e}\")\n",
        "UpdateAustinTexas()"
      ],
      "metadata": {
        "id": "mlzpgrG8h4ZW"
      },
      "execution_count": null,
      "outputs": []
    },
    {
      "cell_type": "code",
      "source": [
        "def CleanAustinTexas():\n",
        "  df = pd.read_csv(\"/content/APDAverageResponseTimebyDayandHour.csv\")\n",
        "  display(df)\n",
        "  return 0\n",
        "CleanAustinTexas()"
      ],
      "metadata": {
        "id": "8Pq5r5Lcia94"
      },
      "execution_count": null,
      "outputs": []
    },
    {
      "cell_type": "code",
      "source": [
        "def CleanAnalyzeBoston():\n",
        "  df = pd.read_csv(\"/content/911-daily-dispatch-count-by-agency.csv\")"
      ],
      "metadata": {
        "id": "8XYPCIiPft9G"
      },
      "execution_count": null,
      "outputs": []
    },
    {
      "cell_type": "code",
      "source": [
        "t_prev_update = datetime.datetime(1,1,1)\n",
        "t_next_update = datetime.datetime(t_prev_update.year,(t_prev_update.month+1)%12,t_prev_update.day)\n",
        "\n",
        "if datetime.datetime.now() > t_next_update:\n",
        "  UpdateAnalyzeBoston()\n",
        "  t_prev_update = datetime.datetime.now()\n",
        "  t_next_update = datetime.datetime(t_prev_update.year,(t_prev_update.month+1)%12,t_prev_update.day)"
      ],
      "metadata": {
        "id": "pf82kTNpOjWK"
      },
      "execution_count": null,
      "outputs": []
    }
  ]
}