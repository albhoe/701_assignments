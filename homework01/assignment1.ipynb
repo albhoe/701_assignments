{
 "cells": [
  {
   "cell_type": "code",
   "execution_count": null,
   "metadata": {},
   "outputs": [
    {
     "name": "stderr",
     "output_type": "stream",
     "text": [
      "UsageError: Line magic function `%python3` not found (But cell magic `%%python3` exists, did you mean that instead?).\n"
     ]
    }
   ],
   "source": [
    "%%python3 --version\n",
    "\n",
    "# create a virtual environment and put it in .venv\n",
    "%python3 -m venv .venv\n",
    "\n",
    "# start the environment\n",
    "%source .venv/bin/activate\n",
    "\n",
    "%pip install -r requirements.txt\n",
    "%pip install otter-grader\n",
    "\n",
    "# start vscode in the current directory if you are using that\n",
    "%code ."
   ]
  },
  {
   "cell_type": "code",
   "execution_count": null,
   "metadata": {
    "deletable": false,
    "editable": false
   },
   "outputs": [],
   "source": [
    "# Initialize Otter\n",
    "import otter\n",
    "grader = otter.Notebook(\"assignment1.ipynb\")"
   ]
  },
  {
   "cell_type": "markdown",
   "metadata": {
    "vscode": {
     "languageId": "raw"
    }
   },
   "source": [
    "## Introduction to Pandas and Scikit-Learn\n",
    "\n",
    "Pandas is a powerful data manipulation and analysis library for Python. It provides data structures like DataFrames and Series that allow for efficient handling of structured data. Pandas is particularly useful for tasks such as reading and writing data in various formats, data cleaning, merging datasets, and performing complex operations on data.\n",
    "\n",
    "Scikit-learn, on the other hand, is a machine learning library for Python. It provides a wide range of supervised and unsupervised learning algorithms, as well as tools for model selection, evaluation, and preprocessing. Scikit-learn is designed to be user-friendly and efficient, making it a popular choice for both beginners and experienced data scientists.\n",
    "\n",
    "Together, Pandas and Scikit-learn form a powerful combination for data analysis and machine learning tasks. Pandas is often used to prepare and manipulate data, which can then be fed into Scikit-learn models for training and prediction.\n",
    "\n",
    "In this assignment, we'll start with the fundamentals of data loading/manipulation in pandas, then move on to basics of scikit-learn."
   ]
  },
  {
   "cell_type": "markdown",
   "metadata": {
    "vscode": {
     "languageId": "raw"
    }
   },
   "source": [
    "## Pandas"
   ]
  },
  {
   "cell_type": "code",
   "execution_count": null,
   "metadata": {},
   "outputs": [],
   "source": [
    "import pandas as pd\n",
    "import numpy as np\n",
    "import matplotlib.pyplot as plt"
   ]
  },
  {
   "cell_type": "markdown",
   "metadata": {},
   "source": [
    "Let's load the **Census Income** dataset which is available on the [UCI ML Dataset Page](https://archive.ics.uci.edu/dataset/20/census+income).\n",
    "\n",
    "The goal is to predict whether a person's income was greater than $50K based on 1994 census data."
   ]
  },
  {
   "cell_type": "code",
   "execution_count": null,
   "metadata": {},
   "outputs": [],
   "source": [
    "df = pd.read_csv('adult.csv')"
   ]
  },
  {
   "cell_type": "markdown",
   "metadata": {},
   "source": [
    "#### Let's take a quick look at the dataset. We'll use the .head() function to view the first 5 records of the dataset."
   ]
  },
  {
   "cell_type": "code",
   "execution_count": null,
   "metadata": {},
   "outputs": [
    {
     "data": {
      "text/html": [
       "<div>\n",
       "<style scoped>\n",
       "    .dataframe tbody tr th:only-of-type {\n",
       "        vertical-align: middle;\n",
       "    }\n",
       "\n",
       "    .dataframe tbody tr th {\n",
       "        vertical-align: top;\n",
       "    }\n",
       "\n",
       "    .dataframe thead th {\n",
       "        text-align: right;\n",
       "    }\n",
       "</style>\n",
       "<table border=\"1\" class=\"dataframe\">\n",
       "  <thead>\n",
       "    <tr style=\"text-align: right;\">\n",
       "      <th></th>\n",
       "      <th>age</th>\n",
       "      <th>workclass</th>\n",
       "      <th>fnlwgt</th>\n",
       "      <th>education</th>\n",
       "      <th>educational-num</th>\n",
       "      <th>marital-status</th>\n",
       "      <th>occupation</th>\n",
       "      <th>relationship</th>\n",
       "      <th>race</th>\n",
       "      <th>gender</th>\n",
       "      <th>capital-gain</th>\n",
       "      <th>capital-loss</th>\n",
       "      <th>hours-per-week</th>\n",
       "      <th>native-country</th>\n",
       "      <th>income</th>\n",
       "    </tr>\n",
       "  </thead>\n",
       "  <tbody>\n",
       "    <tr>\n",
       "      <th>0</th>\n",
       "      <td>25</td>\n",
       "      <td>Private</td>\n",
       "      <td>226802</td>\n",
       "      <td>11th</td>\n",
       "      <td>7</td>\n",
       "      <td>Never-married</td>\n",
       "      <td>Machine-op-inspct</td>\n",
       "      <td>Own-child</td>\n",
       "      <td>Black</td>\n",
       "      <td>Male</td>\n",
       "      <td>0</td>\n",
       "      <td>0</td>\n",
       "      <td>40</td>\n",
       "      <td>United-States</td>\n",
       "      <td>&lt;=50K</td>\n",
       "    </tr>\n",
       "    <tr>\n",
       "      <th>1</th>\n",
       "      <td>38</td>\n",
       "      <td>Private</td>\n",
       "      <td>89814</td>\n",
       "      <td>HS-grad</td>\n",
       "      <td>9</td>\n",
       "      <td>Married-civ-spouse</td>\n",
       "      <td>Farming-fishing</td>\n",
       "      <td>Husband</td>\n",
       "      <td>White</td>\n",
       "      <td>Male</td>\n",
       "      <td>0</td>\n",
       "      <td>0</td>\n",
       "      <td>50</td>\n",
       "      <td>United-States</td>\n",
       "      <td>&lt;=50K</td>\n",
       "    </tr>\n",
       "    <tr>\n",
       "      <th>2</th>\n",
       "      <td>28</td>\n",
       "      <td>Local-gov</td>\n",
       "      <td>336951</td>\n",
       "      <td>Assoc-acdm</td>\n",
       "      <td>12</td>\n",
       "      <td>Married-civ-spouse</td>\n",
       "      <td>Protective-serv</td>\n",
       "      <td>Husband</td>\n",
       "      <td>White</td>\n",
       "      <td>Male</td>\n",
       "      <td>0</td>\n",
       "      <td>0</td>\n",
       "      <td>40</td>\n",
       "      <td>United-States</td>\n",
       "      <td>&gt;50K</td>\n",
       "    </tr>\n",
       "    <tr>\n",
       "      <th>3</th>\n",
       "      <td>44</td>\n",
       "      <td>Private</td>\n",
       "      <td>160323</td>\n",
       "      <td>Some-college</td>\n",
       "      <td>10</td>\n",
       "      <td>Married-civ-spouse</td>\n",
       "      <td>Machine-op-inspct</td>\n",
       "      <td>Husband</td>\n",
       "      <td>Black</td>\n",
       "      <td>Male</td>\n",
       "      <td>7688</td>\n",
       "      <td>0</td>\n",
       "      <td>40</td>\n",
       "      <td>United-States</td>\n",
       "      <td>&gt;50K</td>\n",
       "    </tr>\n",
       "    <tr>\n",
       "      <th>4</th>\n",
       "      <td>18</td>\n",
       "      <td>?</td>\n",
       "      <td>103497</td>\n",
       "      <td>Some-college</td>\n",
       "      <td>10</td>\n",
       "      <td>Never-married</td>\n",
       "      <td>?</td>\n",
       "      <td>Own-child</td>\n",
       "      <td>White</td>\n",
       "      <td>Female</td>\n",
       "      <td>0</td>\n",
       "      <td>0</td>\n",
       "      <td>30</td>\n",
       "      <td>United-States</td>\n",
       "      <td>&lt;=50K</td>\n",
       "    </tr>\n",
       "  </tbody>\n",
       "</table>\n",
       "</div>"
      ],
      "text/plain": [
       "   age  workclass  fnlwgt     education  educational-num      marital-status  \\\n",
       "0   25    Private  226802          11th                7       Never-married   \n",
       "1   38    Private   89814       HS-grad                9  Married-civ-spouse   \n",
       "2   28  Local-gov  336951    Assoc-acdm               12  Married-civ-spouse   \n",
       "3   44    Private  160323  Some-college               10  Married-civ-spouse   \n",
       "4   18          ?  103497  Some-college               10       Never-married   \n",
       "\n",
       "          occupation relationship   race  gender  capital-gain  capital-loss  \\\n",
       "0  Machine-op-inspct    Own-child  Black    Male             0             0   \n",
       "1    Farming-fishing      Husband  White    Male             0             0   \n",
       "2    Protective-serv      Husband  White    Male             0             0   \n",
       "3  Machine-op-inspct      Husband  Black    Male          7688             0   \n",
       "4                  ?    Own-child  White  Female             0             0   \n",
       "\n",
       "   hours-per-week native-country income  \n",
       "0              40  United-States  <=50K  \n",
       "1              50  United-States  <=50K  \n",
       "2              40  United-States   >50K  \n",
       "3              40  United-States   >50K  \n",
       "4              30  United-States  <=50K  "
      ]
     },
     "execution_count": 129,
     "metadata": {},
     "output_type": "execute_result"
    }
   ],
   "source": [
    "df.head()"
   ]
  },
  {
   "cell_type": "markdown",
   "metadata": {},
   "source": [
    "## Part 1: Data Loading and pre-processing"
   ]
  },
  {
   "cell_type": "markdown",
   "metadata": {
    "deletable": false,
    "editable": false,
    "vscode": {
     "languageId": "raw"
    }
   },
   "source": [
    "### Feel free to refer to the course notes on [pandas](https://tools4ds.github.io/DS701-Course-Notes/02B-Pandas.html) for the following questions."
   ]
  },
  {
   "cell_type": "markdown",
   "metadata": {
    "deletable": false,
    "editable": false
   },
   "source": [
    "**Question 1a**: Write a function `get_rows_and_columns` that takes as input a CSV filename, loads this file into a Pandas dataframe, and returns a tuple of the number of rows and columns in the dataframe."
   ]
  },
  {
   "cell_type": "code",
   "execution_count": null,
   "metadata": {
    "tags": [
     "otter_answer_cell"
    ]
   },
   "outputs": [],
   "source": [
    "def get_rows_and_columns(file_path):\n",
    "    df = pd.read_csv(file_path) \n",
    "    return df.shape"
   ]
  },
  {
   "cell_type": "code",
   "execution_count": null,
   "metadata": {
    "tags": [
     "otter_answer_cell"
    ]
   },
   "outputs": [
    {
     "data": {
      "text/plain": [
       "(48842, 15)"
      ]
     },
     "execution_count": 131,
     "metadata": {},
     "output_type": "execute_result"
    }
   ],
   "source": [
    "get_rows_and_columns('adult.csv')"
   ]
  },
  {
   "cell_type": "code",
   "execution_count": null,
   "metadata": {
    "deletable": false,
    "editable": false
   },
   "outputs": [
    {
     "data": {
      "text/html": [
       "<p><strong><pre style='display: inline;'>q1a</pre></strong> passed! 💯</p>"
      ],
      "text/plain": [
       "q1a results: All test cases passed!"
      ]
     },
     "execution_count": 132,
     "metadata": {},
     "output_type": "execute_result"
    }
   ],
   "source": [
    "grader.check(\"q1a\")"
   ]
  },
  {
   "cell_type": "markdown",
   "metadata": {
    "deletable": false,
    "editable": false,
    "vscode": {
     "languageId": "raw"
    }
   },
   "source": [
    "**Question 1b**: Write a function `compute_missing_percentage` that converts '?' to `pd.NA` and returns the percentage of missing data (i.e., NaNs) for each column in the dataset.\n",
    "\n",
    "The term `pd.NA` is the way to represent [missing values](https://pandas.pydata.org/docs/reference/missing_value.html) (not available) in Pandas."
   ]
  },
  {
   "cell_type": "code",
   "execution_count": null,
   "metadata": {
    "tags": [
     "otter_answer_cell"
    ]
   },
   "outputs": [],
   "source": [
    "def compute_missing_percentage(df):\n",
    "    df = df.map(lambda x: pd.NA if x=='?' else x)\n",
    "    rows,cols = df.shape\n",
    "    counts = df.count(axis = 0)\n",
    "    return counts.apply (lambda x: (1-(x/rows))*100)"
   ]
  },
  {
   "cell_type": "code",
   "execution_count": null,
   "metadata": {
    "tags": [
     "otter_answer_cell"
    ]
   },
   "outputs": [
    {
     "data": {
      "text/plain": [
       "age                0.000000\n",
       "workclass          5.730724\n",
       "fnlwgt             0.000000\n",
       "education          0.000000\n",
       "educational-num    0.000000\n",
       "marital-status     0.000000\n",
       "occupation         5.751198\n",
       "relationship       0.000000\n",
       "race               0.000000\n",
       "gender             0.000000\n",
       "capital-gain       0.000000\n",
       "capital-loss       0.000000\n",
       "hours-per-week     0.000000\n",
       "native-country     1.754637\n",
       "income             0.000000\n",
       "dtype: float64"
      ]
     },
     "execution_count": 134,
     "metadata": {},
     "output_type": "execute_result"
    }
   ],
   "source": [
    "compute_missing_percentage(df)"
   ]
  },
  {
   "cell_type": "code",
   "execution_count": null,
   "metadata": {},
   "outputs": [
    {
     "data": {
      "text/html": [
       "<p><strong><pre style='display: inline;'>q1b</pre></strong> passed! 🎉</p>"
      ],
      "text/plain": [
       "q1b results: All test cases passed!"
      ]
     },
     "execution_count": 135,
     "metadata": {},
     "output_type": "execute_result"
    }
   ],
   "source": [
    "grader.check(\"q1b\")"
   ]
  },
  {
   "cell_type": "markdown",
   "metadata": {
    "deletable": false,
    "editable": false
   },
   "source": [
    "**Question 1c**: Write a function `unique_occupation` that returns the number of unique occupation present in the dataset."
   ]
  },
  {
   "cell_type": "code",
   "execution_count": null,
   "metadata": {
    "tags": [
     "otter_answer_cell"
    ]
   },
   "outputs": [],
   "source": [
    "def unique_occupation(df):\n",
    "    return df['occupation'].nunique()"
   ]
  },
  {
   "cell_type": "code",
   "execution_count": null,
   "metadata": {
    "tags": [
     "otter_answer_cell"
    ]
   },
   "outputs": [
    {
     "data": {
      "text/plain": [
       "15"
      ]
     },
     "execution_count": 137,
     "metadata": {},
     "output_type": "execute_result"
    }
   ],
   "source": [
    "unique_occupation(df)"
   ]
  },
  {
   "cell_type": "code",
   "execution_count": null,
   "metadata": {
    "deletable": false,
    "editable": false
   },
   "outputs": [
    {
     "data": {
      "text/html": [
       "<p><strong><pre style='display: inline;'>q1c</pre></strong> passed! 🍀</p>"
      ],
      "text/plain": [
       "q1c results: All test cases passed!"
      ]
     },
     "execution_count": 138,
     "metadata": {},
     "output_type": "execute_result"
    }
   ],
   "source": [
    "grader.check(\"q1c\")"
   ]
  },
  {
   "cell_type": "markdown",
   "metadata": {
    "deletable": false,
    "editable": false
   },
   "source": [
    "**Question 1d**: Write a function `categorical_column_with_max_unique_values` that identifies and returns the index of the **column with maximum number of distinct categorical values** in the dataset."
   ]
  },
  {
   "cell_type": "code",
   "execution_count": null,
   "metadata": {
    "tags": [
     "otter_answer_cell"
    ]
   },
   "outputs": [],
   "source": [
    "def categorical_column_with_max_unique_values(df):\n",
    "    df = df.loc[:,['workclass','education','occupation','marital-status','relationship','race','native-country']]\n",
    "    uniques = df.nunique(axis = 0)\n",
    "    return uniques.idxmax()"
   ]
  },
  {
   "cell_type": "code",
   "execution_count": null,
   "metadata": {
    "tags": [
     "otter_answer_cell"
    ]
   },
   "outputs": [
    {
     "data": {
      "text/plain": [
       "'native-country'"
      ]
     },
     "execution_count": 140,
     "metadata": {},
     "output_type": "execute_result"
    }
   ],
   "source": [
    "categorical_column_with_max_unique_values(df)"
   ]
  },
  {
   "cell_type": "code",
   "execution_count": null,
   "metadata": {
    "deletable": false,
    "editable": false
   },
   "outputs": [
    {
     "data": {
      "text/html": [
       "<p><strong><pre style='display: inline;'>q1d</pre></strong> passed! 💯</p>"
      ],
      "text/plain": [
       "q1d results: All test cases passed!"
      ]
     },
     "execution_count": 141,
     "metadata": {},
     "output_type": "execute_result"
    }
   ],
   "source": [
    "grader.check(\"q1d\")"
   ]
  },
  {
   "cell_type": "markdown",
   "metadata": {
    "vscode": {
     "languageId": "raw"
    }
   },
   "source": [
    "## Part 2: Exploratory data analysis and visualizations"
   ]
  },
  {
   "cell_type": "markdown",
   "metadata": {
    "deletable": false,
    "editable": false
   },
   "source": [
    "<!-- BEGIN QUESTION -->\n",
    "\n",
    "**Question 2a**: Write a function `plot_categorical_distribution` to plot the distribution of the column 'education' as a histogram.\n",
    "\n",
    "You can use Pandas `.plot()` method for this. Look at the DataFrame `.value_counts` method as well. See class examples for how to add labels and titles."
   ]
  },
  {
   "cell_type": "code",
   "execution_count": null,
   "metadata": {},
   "outputs": [],
   "source": [
    "def plot_categorical_distribution(df):\n",
    "    df['education'].value_counts(ascending=True).plot(kind='bar',title='Education Distribution',xlabel='Education Level',ylabel='Count')"
   ]
  },
  {
   "cell_type": "code",
   "execution_count": null,
   "metadata": {
    "tags": [
     "otter_answer_cell"
    ]
   },
   "outputs": [
    {
     "data": {
      "image/png": "[encoded data removed]",
      "text/plain": [
       "<Figure size 640x480 with 1 Axes>"
      ]
     },
     "metadata": {},
     "output_type": "display_data"
    }
   ],
   "source": [
    "plot_categorical_distribution(df)"
   ]
  },
  {
   "cell_type": "markdown",
   "metadata": {
    "deletable": false,
    "editable": false,
    "vscode": {
     "languageId": "raw"
    }
   },
   "source": [
    "<!-- END QUESTION -->\n",
    "\n",
    "<!-- BEGIN QUESTION -->\n",
    "\n",
    "**Question 2b**: Write a function `plot_age_hours_scatter` that creates a scatter plot of 'age' vs 'hours-per-week', coloring points by 'income'.\n",
    "\n",
    "You'll want to look at MatPlotLib's `pyplot.scatter()` for this one."
   ]
  },
  {
   "cell_type": "code",
   "execution_count": null,
   "metadata": {
    "tags": [
     "otter_answer_cell"
    ]
   },
   "outputs": [],
   "source": [
    "def plot_age_hours_scatter(df):\n",
    "    lowdf = df[df['income'] == '<=50K']\n",
    "    highdf = df[df['income'] == '>50K']\n",
    "    plt.scatter(lowdf['age'],lowdf['hours-per-week'],s=4,color='blue',label='<=50K')\n",
    "    plt.scatter(highdf['age'],highdf['hours-per-week'],s=4,color='green',label='>50K')\n",
    "    plt.title('Age vs Hours per Week')\n",
    "    plt.xlabel('Age')\n",
    "    plt.ylabel('Hours per Week')\n",
    "    plt.legend()\n",
    "    plt.show()"
   ]
  },
  {
   "cell_type": "code",
   "execution_count": null,
   "metadata": {
    "tags": [
     "otter_answer_cell"
    ]
   },
   "outputs": [
    {
     "data": {
      "image/png": "[encoded data removed]",
      "text/plain": [
       "<Figure size 640x480 with 1 Axes>"
      ]
     },
     "metadata": {},
     "output_type": "display_data"
    }
   ],
   "source": [
    "plot_age_hours_scatter(df)"
   ]
  },
  {
   "cell_type": "markdown",
   "metadata": {
    "deletable": false,
    "editable": false,
    "vscode": {
     "languageId": "raw"
    }
   },
   "source": [
    "<!-- END QUESTION -->\n",
    "\n",
    "<!-- BEGIN QUESTION -->\n",
    "\n",
    "**Question 2c**: Write a function `plot_income_by_marital_status` which plots a stacked bar chart that shows the proportion of income levels for each 'marital-status' category."
   ]
  },
  {
   "cell_type": "code",
   "execution_count": null,
   "metadata": {
    "tags": [
     "otter_answer_cell"
    ]
   },
   "outputs": [],
   "source": [
    "def plot_income_by_marital_status(df):\n",
    "    return df.groupby('marital-status')['income'].value_counts().unstack().plot(kind='bar',stacked=True)"
   ]
  },
  {
   "cell_type": "code",
   "execution_count": null,
   "metadata": {
    "tags": [
     "otter_answer_cell"
    ]
   },
   "outputs": [
    {
     "data": {
      "text/plain": [
       "<Axes: xlabel='marital-status'>"
      ]
     },
     "execution_count": 147,
     "metadata": {},
     "output_type": "execute_result"
    },
    {
     "data": {
      "image/png": "[encoded data removed]",
      "text/plain": [
       "<Figure size 640x480 with 1 Axes>"
      ]
     },
     "metadata": {},
     "output_type": "display_data"
    }
   ],
   "source": [
    "plot_income_by_marital_status(df)"
   ]
  },
  {
   "cell_type": "markdown",
   "metadata": {
    "deletable": false,
    "editable": false
   },
   "source": [
    "<!-- END QUESTION -->\n",
    "\n",
    "## Part 3: Advanced Pandas Operations"
   ]
  },
  {
   "cell_type": "markdown",
   "metadata": {
    "deletable": false,
    "editable": false
   },
   "source": [
    "**Question 3a**: Write a function `education_stats` that returns a dataframe with mean 'age' and median 'hours-per-week' categorized on the 'education' level."
   ]
  },
  {
   "cell_type": "code",
   "execution_count": null,
   "metadata": {
    "tags": [
     "otter_answer_cell"
    ]
   },
   "outputs": [],
   "source": [
    "def education_stats(df):\n",
    "    res =  df.groupby('education').agg({'age':'mean', 'hours-per-week':'median'})\n",
    "    res.reset_index(inplace=True)\n",
    "    return res"
   ]
  },
  {
   "cell_type": "code",
   "execution_count": null,
   "metadata": {},
   "outputs": [
    {
     "data": {
      "text/html": [
       "<div>\n",
       "<style scoped>\n",
       "    .dataframe tbody tr th:only-of-type {\n",
       "        vertical-align: middle;\n",
       "    }\n",
       "\n",
       "    .dataframe tbody tr th {\n",
       "        vertical-align: top;\n",
       "    }\n",
       "\n",
       "    .dataframe thead th {\n",
       "        text-align: right;\n",
       "    }\n",
       "</style>\n",
       "<table border=\"1\" class=\"dataframe\">\n",
       "  <thead>\n",
       "    <tr style=\"text-align: right;\">\n",
       "      <th></th>\n",
       "      <th>education</th>\n",
       "      <th>age</th>\n",
       "      <th>hours-per-week</th>\n",
       "    </tr>\n",
       "  </thead>\n",
       "  <tbody>\n",
       "    <tr>\n",
       "      <th>0</th>\n",
       "      <td>10th</td>\n",
       "      <td>37.902808</td>\n",
       "      <td>40.0</td>\n",
       "    </tr>\n",
       "    <tr>\n",
       "      <th>1</th>\n",
       "      <td>11th</td>\n",
       "      <td>32.141832</td>\n",
       "      <td>40.0</td>\n",
       "    </tr>\n",
       "    <tr>\n",
       "      <th>2</th>\n",
       "      <td>12th</td>\n",
       "      <td>32.235921</td>\n",
       "      <td>40.0</td>\n",
       "    </tr>\n",
       "    <tr>\n",
       "      <th>3</th>\n",
       "      <td>1st-4th</td>\n",
       "      <td>46.639676</td>\n",
       "      <td>40.0</td>\n",
       "    </tr>\n",
       "    <tr>\n",
       "      <th>4</th>\n",
       "      <td>5th-6th</td>\n",
       "      <td>43.585462</td>\n",
       "      <td>40.0</td>\n",
       "    </tr>\n",
       "    <tr>\n",
       "      <th>5</th>\n",
       "      <td>7th-8th</td>\n",
       "      <td>49.525654</td>\n",
       "      <td>40.0</td>\n",
       "    </tr>\n",
       "    <tr>\n",
       "      <th>6</th>\n",
       "      <td>9th</td>\n",
       "      <td>40.902116</td>\n",
       "      <td>40.0</td>\n",
       "    </tr>\n",
       "    <tr>\n",
       "      <th>7</th>\n",
       "      <td>Assoc-acdm</td>\n",
       "      <td>37.777014</td>\n",
       "      <td>40.0</td>\n",
       "    </tr>\n",
       "    <tr>\n",
       "      <th>8</th>\n",
       "      <td>Assoc-voc</td>\n",
       "      <td>38.651140</td>\n",
       "      <td>40.0</td>\n",
       "    </tr>\n",
       "    <tr>\n",
       "      <th>9</th>\n",
       "      <td>Bachelors</td>\n",
       "      <td>38.896324</td>\n",
       "      <td>40.0</td>\n",
       "    </tr>\n",
       "    <tr>\n",
       "      <th>10</th>\n",
       "      <td>Doctorate</td>\n",
       "      <td>47.530303</td>\n",
       "      <td>45.0</td>\n",
       "    </tr>\n",
       "    <tr>\n",
       "      <th>11</th>\n",
       "      <td>HS-grad</td>\n",
       "      <td>39.073809</td>\n",
       "      <td>40.0</td>\n",
       "    </tr>\n",
       "    <tr>\n",
       "      <th>12</th>\n",
       "      <td>Masters</td>\n",
       "      <td>44.006775</td>\n",
       "      <td>40.0</td>\n",
       "    </tr>\n",
       "    <tr>\n",
       "      <th>13</th>\n",
       "      <td>Preschool</td>\n",
       "      <td>42.204819</td>\n",
       "      <td>40.0</td>\n",
       "    </tr>\n",
       "    <tr>\n",
       "      <th>14</th>\n",
       "      <td>Prof-school</td>\n",
       "      <td>45.152278</td>\n",
       "      <td>48.0</td>\n",
       "    </tr>\n",
       "    <tr>\n",
       "      <th>15</th>\n",
       "      <td>Some-college</td>\n",
       "      <td>35.677055</td>\n",
       "      <td>40.0</td>\n",
       "    </tr>\n",
       "  </tbody>\n",
       "</table>\n",
       "</div>"
      ],
      "text/plain": [
       "       education        age  hours-per-week\n",
       "0           10th  37.902808            40.0\n",
       "1           11th  32.141832            40.0\n",
       "2           12th  32.235921            40.0\n",
       "3        1st-4th  46.639676            40.0\n",
       "4        5th-6th  43.585462            40.0\n",
       "5        7th-8th  49.525654            40.0\n",
       "6            9th  40.902116            40.0\n",
       "7     Assoc-acdm  37.777014            40.0\n",
       "8      Assoc-voc  38.651140            40.0\n",
       "9      Bachelors  38.896324            40.0\n",
       "10     Doctorate  47.530303            45.0\n",
       "11       HS-grad  39.073809            40.0\n",
       "12       Masters  44.006775            40.0\n",
       "13     Preschool  42.204819            40.0\n",
       "14   Prof-school  45.152278            48.0\n",
       "15  Some-college  35.677055            40.0"
      ]
     },
     "execution_count": 245,
     "metadata": {},
     "output_type": "execute_result"
    }
   ],
   "source": [
    "education_stats(df)"
   ]
  },
  {
   "cell_type": "code",
   "execution_count": null,
   "metadata": {
    "deletable": false,
    "editable": false
   },
   "outputs": [
    {
     "data": {
      "text/html": [
       "<p><strong><pre style='display: inline;'>q3a</pre></strong> passed! 🌈</p>"
      ],
      "text/plain": [
       "q3a results: All test cases passed!"
      ]
     },
     "execution_count": 246,
     "metadata": {},
     "output_type": "execute_result"
    }
   ],
   "source": [
    "grader.check(\"q3a\")"
   ]
  },
  {
   "cell_type": "markdown",
   "metadata": {
    "deletable": false,
    "editable": false,
    "vscode": {
     "languageId": "raw"
    }
   },
   "source": [
    "**Question 3b**: Write a function `calculate_most_popular_occupation` that returns a dataframe of the most popular occupation for each 'native-country' and order them in descending order."
   ]
  },
  {
   "cell_type": "code",
   "execution_count": null,
   "metadata": {
    "tags": [
     "otter_answer_cell"
    ]
   },
   "outputs": [],
   "source": [
    "def calculate_most_popular_occupation(df):\n",
    "    counts = df.groupby('native-country')['occupation']\n",
    "\n",
    "    occupations = pd.Series(index=df['native-country'].unique(),dtype=object)\n",
    "    for country in occupations.index:\n",
    "       occupations[country] = counts.get_group(country).value_counts().idxmax()\n",
    "    occupations = occupations.to_frame()\n",
    "    occupations.columns = pd.Index(['occupation'],dtype='object')\n",
    "    occupations.index.name = 'native-country'\n",
    "    occupations.reset_index(inplace=True)\n",
    "    return occupations"
   ]
  },
  {
   "cell_type": "code",
   "execution_count": null,
   "metadata": {
    "tags": [
     "otter_answer_cell"
    ]
   },
   "outputs": [
    {
     "data": {
      "text/html": [
       "<div>\n",
       "<style scoped>\n",
       "    .dataframe tbody tr th:only-of-type {\n",
       "        vertical-align: middle;\n",
       "    }\n",
       "\n",
       "    .dataframe tbody tr th {\n",
       "        vertical-align: top;\n",
       "    }\n",
       "\n",
       "    .dataframe thead th {\n",
       "        text-align: right;\n",
       "    }\n",
       "</style>\n",
       "<table border=\"1\" class=\"dataframe\">\n",
       "  <thead>\n",
       "    <tr style=\"text-align: right;\">\n",
       "      <th></th>\n",
       "      <th>native-country</th>\n",
       "      <th>occupation</th>\n",
       "    </tr>\n",
       "  </thead>\n",
       "  <tbody>\n",
       "    <tr>\n",
       "      <th>0</th>\n",
       "      <td>United-States</td>\n",
       "      <td>Exec-managerial</td>\n",
       "    </tr>\n",
       "    <tr>\n",
       "      <th>1</th>\n",
       "      <td>?</td>\n",
       "      <td>Prof-specialty</td>\n",
       "    </tr>\n",
       "    <tr>\n",
       "      <th>2</th>\n",
       "      <td>Peru</td>\n",
       "      <td>Other-service</td>\n",
       "    </tr>\n",
       "    <tr>\n",
       "      <th>3</th>\n",
       "      <td>Guatemala</td>\n",
       "      <td>Craft-repair</td>\n",
       "    </tr>\n",
       "    <tr>\n",
       "      <th>4</th>\n",
       "      <td>Mexico</td>\n",
       "      <td>Other-service</td>\n",
       "    </tr>\n",
       "    <tr>\n",
       "      <th>5</th>\n",
       "      <td>Dominican-Republic</td>\n",
       "      <td>Machine-op-inspct</td>\n",
       "    </tr>\n",
       "    <tr>\n",
       "      <th>6</th>\n",
       "      <td>Ireland</td>\n",
       "      <td>Craft-repair</td>\n",
       "    </tr>\n",
       "    <tr>\n",
       "      <th>7</th>\n",
       "      <td>Germany</td>\n",
       "      <td>Prof-specialty</td>\n",
       "    </tr>\n",
       "    <tr>\n",
       "      <th>8</th>\n",
       "      <td>Philippines</td>\n",
       "      <td>Adm-clerical</td>\n",
       "    </tr>\n",
       "    <tr>\n",
       "      <th>9</th>\n",
       "      <td>Thailand</td>\n",
       "      <td>Other-service</td>\n",
       "    </tr>\n",
       "    <tr>\n",
       "      <th>10</th>\n",
       "      <td>Haiti</td>\n",
       "      <td>Other-service</td>\n",
       "    </tr>\n",
       "    <tr>\n",
       "      <th>11</th>\n",
       "      <td>El-Salvador</td>\n",
       "      <td>Other-service</td>\n",
       "    </tr>\n",
       "    <tr>\n",
       "      <th>12</th>\n",
       "      <td>Puerto-Rico</td>\n",
       "      <td>Other-service</td>\n",
       "    </tr>\n",
       "    <tr>\n",
       "      <th>13</th>\n",
       "      <td>Vietnam</td>\n",
       "      <td>Adm-clerical</td>\n",
       "    </tr>\n",
       "    <tr>\n",
       "      <th>14</th>\n",
       "      <td>South</td>\n",
       "      <td>Sales</td>\n",
       "    </tr>\n",
       "    <tr>\n",
       "      <th>15</th>\n",
       "      <td>Columbia</td>\n",
       "      <td>Machine-op-inspct</td>\n",
       "    </tr>\n",
       "    <tr>\n",
       "      <th>16</th>\n",
       "      <td>Japan</td>\n",
       "      <td>Exec-managerial</td>\n",
       "    </tr>\n",
       "    <tr>\n",
       "      <th>17</th>\n",
       "      <td>India</td>\n",
       "      <td>Prof-specialty</td>\n",
       "    </tr>\n",
       "    <tr>\n",
       "      <th>18</th>\n",
       "      <td>Cambodia</td>\n",
       "      <td>Craft-repair</td>\n",
       "    </tr>\n",
       "    <tr>\n",
       "      <th>19</th>\n",
       "      <td>Poland</td>\n",
       "      <td>Craft-repair</td>\n",
       "    </tr>\n",
       "    <tr>\n",
       "      <th>20</th>\n",
       "      <td>Laos</td>\n",
       "      <td>Machine-op-inspct</td>\n",
       "    </tr>\n",
       "    <tr>\n",
       "      <th>21</th>\n",
       "      <td>England</td>\n",
       "      <td>Exec-managerial</td>\n",
       "    </tr>\n",
       "    <tr>\n",
       "      <th>22</th>\n",
       "      <td>Cuba</td>\n",
       "      <td>Exec-managerial</td>\n",
       "    </tr>\n",
       "    <tr>\n",
       "      <th>23</th>\n",
       "      <td>Taiwan</td>\n",
       "      <td>Prof-specialty</td>\n",
       "    </tr>\n",
       "    <tr>\n",
       "      <th>24</th>\n",
       "      <td>Italy</td>\n",
       "      <td>Craft-repair</td>\n",
       "    </tr>\n",
       "    <tr>\n",
       "      <th>25</th>\n",
       "      <td>Canada</td>\n",
       "      <td>Prof-specialty</td>\n",
       "    </tr>\n",
       "    <tr>\n",
       "      <th>26</th>\n",
       "      <td>Portugal</td>\n",
       "      <td>Craft-repair</td>\n",
       "    </tr>\n",
       "    <tr>\n",
       "      <th>27</th>\n",
       "      <td>China</td>\n",
       "      <td>Prof-specialty</td>\n",
       "    </tr>\n",
       "    <tr>\n",
       "      <th>28</th>\n",
       "      <td>Nicaragua</td>\n",
       "      <td>Adm-clerical</td>\n",
       "    </tr>\n",
       "    <tr>\n",
       "      <th>29</th>\n",
       "      <td>Honduras</td>\n",
       "      <td>Craft-repair</td>\n",
       "    </tr>\n",
       "    <tr>\n",
       "      <th>30</th>\n",
       "      <td>Iran</td>\n",
       "      <td>Prof-specialty</td>\n",
       "    </tr>\n",
       "    <tr>\n",
       "      <th>31</th>\n",
       "      <td>Scotland</td>\n",
       "      <td>Other-service</td>\n",
       "    </tr>\n",
       "    <tr>\n",
       "      <th>32</th>\n",
       "      <td>Jamaica</td>\n",
       "      <td>Other-service</td>\n",
       "    </tr>\n",
       "    <tr>\n",
       "      <th>33</th>\n",
       "      <td>Ecuador</td>\n",
       "      <td>Machine-op-inspct</td>\n",
       "    </tr>\n",
       "    <tr>\n",
       "      <th>34</th>\n",
       "      <td>Yugoslavia</td>\n",
       "      <td>Exec-managerial</td>\n",
       "    </tr>\n",
       "    <tr>\n",
       "      <th>35</th>\n",
       "      <td>Hungary</td>\n",
       "      <td>Craft-repair</td>\n",
       "    </tr>\n",
       "    <tr>\n",
       "      <th>36</th>\n",
       "      <td>Hong</td>\n",
       "      <td>Prof-specialty</td>\n",
       "    </tr>\n",
       "    <tr>\n",
       "      <th>37</th>\n",
       "      <td>Greece</td>\n",
       "      <td>Exec-managerial</td>\n",
       "    </tr>\n",
       "    <tr>\n",
       "      <th>38</th>\n",
       "      <td>Trinadad&amp;Tobago</td>\n",
       "      <td>Other-service</td>\n",
       "    </tr>\n",
       "    <tr>\n",
       "      <th>39</th>\n",
       "      <td>Outlying-US(Guam-USVI-etc)</td>\n",
       "      <td>Exec-managerial</td>\n",
       "    </tr>\n",
       "    <tr>\n",
       "      <th>40</th>\n",
       "      <td>France</td>\n",
       "      <td>Prof-specialty</td>\n",
       "    </tr>\n",
       "    <tr>\n",
       "      <th>41</th>\n",
       "      <td>Holand-Netherlands</td>\n",
       "      <td>Machine-op-inspct</td>\n",
       "    </tr>\n",
       "  </tbody>\n",
       "</table>\n",
       "</div>"
      ],
      "text/plain": [
       "                native-country         occupation\n",
       "0                United-States    Exec-managerial\n",
       "1                            ?     Prof-specialty\n",
       "2                         Peru      Other-service\n",
       "3                    Guatemala       Craft-repair\n",
       "4                       Mexico      Other-service\n",
       "5           Dominican-Republic  Machine-op-inspct\n",
       "6                      Ireland       Craft-repair\n",
       "7                      Germany     Prof-specialty\n",
       "8                  Philippines       Adm-clerical\n",
       "9                     Thailand      Other-service\n",
       "10                       Haiti      Other-service\n",
       "11                 El-Salvador      Other-service\n",
       "12                 Puerto-Rico      Other-service\n",
       "13                     Vietnam       Adm-clerical\n",
       "14                       South              Sales\n",
       "15                    Columbia  Machine-op-inspct\n",
       "16                       Japan    Exec-managerial\n",
       "17                       India     Prof-specialty\n",
       "18                    Cambodia       Craft-repair\n",
       "19                      Poland       Craft-repair\n",
       "20                        Laos  Machine-op-inspct\n",
       "21                     England    Exec-managerial\n",
       "22                        Cuba    Exec-managerial\n",
       "23                      Taiwan     Prof-specialty\n",
       "24                       Italy       Craft-repair\n",
       "25                      Canada     Prof-specialty\n",
       "26                    Portugal       Craft-repair\n",
       "27                       China     Prof-specialty\n",
       "28                   Nicaragua       Adm-clerical\n",
       "29                    Honduras       Craft-repair\n",
       "30                        Iran     Prof-specialty\n",
       "31                    Scotland      Other-service\n",
       "32                     Jamaica      Other-service\n",
       "33                     Ecuador  Machine-op-inspct\n",
       "34                  Yugoslavia    Exec-managerial\n",
       "35                     Hungary       Craft-repair\n",
       "36                        Hong     Prof-specialty\n",
       "37                      Greece    Exec-managerial\n",
       "38             Trinadad&Tobago      Other-service\n",
       "39  Outlying-US(Guam-USVI-etc)    Exec-managerial\n",
       "40                      France     Prof-specialty\n",
       "41          Holand-Netherlands  Machine-op-inspct"
      ]
     },
     "execution_count": 376,
     "metadata": {},
     "output_type": "execute_result"
    }
   ],
   "source": [
    "calculate_most_popular_occupation(df)"
   ]
  },
  {
   "cell_type": "code",
   "execution_count": null,
   "metadata": {
    "deletable": false,
    "editable": false
   },
   "outputs": [
    {
     "data": {
      "text/html": [
       "<p><strong><pre style='display: inline;'>q3b</pre></strong> passed! 🍀</p>"
      ],
      "text/plain": [
       "q3b results: All test cases passed!"
      ]
     },
     "execution_count": 377,
     "metadata": {},
     "output_type": "execute_result"
    }
   ],
   "source": [
    "grader.check(\"q3b\")"
   ]
  },
  {
   "cell_type": "markdown",
   "metadata": {
    "deletable": false,
    "editable": false,
    "vscode": {
     "languageId": "raw"
    }
   },
   "source": [
    "**Question 3c**: Write a function `workclass_by_income` that returns a dataframe of the top 5 workclass with the highest number of people having income >50K"
   ]
  },
  {
   "cell_type": "code",
   "execution_count": null,
   "metadata": {
    "tags": [
     "otter_answer_cell"
    ]
   },
   "outputs": [],
   "source": [
    "def workclass_by_income(df):\n",
    "     df = df[df['income'] == \">50K\"]\n",
    "     workclass = df['workclass']\n",
    "     workcounts = workclass.value_counts()\n",
    "     res = workcounts.to_frame()\n",
    "     res.columns = pd.Index(['count'],dtype='object')\n",
    "     res.reset_index(inplace=True)\n",
    "     return res\n",
    "     "
   ]
  },
  {
   "cell_type": "code",
   "execution_count": null,
   "metadata": {
    "tags": [
     "otter_answer_cell"
    ]
   },
   "outputs": [
    {
     "data": {
      "text/html": [
       "<div>\n",
       "<style scoped>\n",
       "    .dataframe tbody tr th:only-of-type {\n",
       "        vertical-align: middle;\n",
       "    }\n",
       "\n",
       "    .dataframe tbody tr th {\n",
       "        vertical-align: top;\n",
       "    }\n",
       "\n",
       "    .dataframe thead th {\n",
       "        text-align: right;\n",
       "    }\n",
       "</style>\n",
       "<table border=\"1\" class=\"dataframe\">\n",
       "  <thead>\n",
       "    <tr style=\"text-align: right;\">\n",
       "      <th></th>\n",
       "      <th>workclass</th>\n",
       "      <th>count</th>\n",
       "    </tr>\n",
       "  </thead>\n",
       "  <tbody>\n",
       "    <tr>\n",
       "      <th>0</th>\n",
       "      <td>Private</td>\n",
       "      <td>7387</td>\n",
       "    </tr>\n",
       "    <tr>\n",
       "      <th>1</th>\n",
       "      <td>Self-emp-not-inc</td>\n",
       "      <td>1077</td>\n",
       "    </tr>\n",
       "    <tr>\n",
       "      <th>2</th>\n",
       "      <td>Self-emp-inc</td>\n",
       "      <td>938</td>\n",
       "    </tr>\n",
       "    <tr>\n",
       "      <th>3</th>\n",
       "      <td>Local-gov</td>\n",
       "      <td>927</td>\n",
       "    </tr>\n",
       "    <tr>\n",
       "      <th>4</th>\n",
       "      <td>Federal-gov</td>\n",
       "      <td>561</td>\n",
       "    </tr>\n",
       "    <tr>\n",
       "      <th>5</th>\n",
       "      <td>State-gov</td>\n",
       "      <td>530</td>\n",
       "    </tr>\n",
       "    <tr>\n",
       "      <th>6</th>\n",
       "      <td>?</td>\n",
       "      <td>265</td>\n",
       "    </tr>\n",
       "    <tr>\n",
       "      <th>7</th>\n",
       "      <td>Without-pay</td>\n",
       "      <td>2</td>\n",
       "    </tr>\n",
       "  </tbody>\n",
       "</table>\n",
       "</div>"
      ],
      "text/plain": [
       "          workclass  count\n",
       "0           Private   7387\n",
       "1  Self-emp-not-inc   1077\n",
       "2      Self-emp-inc    938\n",
       "3         Local-gov    927\n",
       "4       Federal-gov    561\n",
       "5         State-gov    530\n",
       "6                 ?    265\n",
       "7       Without-pay      2"
      ]
     },
     "execution_count": 415,
     "metadata": {},
     "output_type": "execute_result"
    }
   ],
   "source": [
    "workclass_by_income(df)"
   ]
  },
  {
   "cell_type": "code",
   "execution_count": null,
   "metadata": {
    "deletable": false,
    "editable": false
   },
   "outputs": [
    {
     "data": {
      "text/html": [
       "<p><strong><pre style='display: inline;'>q3c</pre></strong> passed! 🚀</p>"
      ],
      "text/plain": [
       "q3c results: All test cases passed!"
      ]
     },
     "execution_count": 416,
     "metadata": {},
     "output_type": "execute_result"
    }
   ],
   "source": [
    "grader.check(\"q3c\")"
   ]
  },
  {
   "cell_type": "markdown",
   "metadata": {
    "vscode": {
     "languageId": "raw"
    }
   },
   "source": [
    "## Scikit-learn"
   ]
  },
  {
   "cell_type": "code",
   "execution_count": null,
   "metadata": {},
   "outputs": [],
   "source": [
    "# MAKE SURE TO RUN THIS CELL!\n",
    "\n",
    "import warnings\n",
    "from sklearn.preprocessing import MinMaxScaler\n",
    "from sklearn.linear_model import LogisticRegression\n",
    "from sklearn.model_selection import train_test_split\n",
    "from sklearn.metrics import mean_squared_error, mean_absolute_error\n",
    "\n",
    "df_new = df.drop(columns=['native-country', 'fnlwgt']).dropna()"
   ]
  },
  {
   "cell_type": "markdown",
   "metadata": {},
   "source": [
    "In this part, we'll implement [logistic regression](https://scikit-learn.org/stable/modules/generated/sklearn.linear_model.LogisticRegression.html) using scikit-learn. Logistic regression is used when trying to predict a binary outcome (0 or 1, True or False, etc.) We will go over the details of logistic regression in details later in the course. \n",
    "\n",
    "Here, we will try to predict income (>50k or <= 50k>) and follow standard ML procedures for data pre-processing. You can use scikit-learn's documentation, [the lecture notes on scikit-learn](https://tools4ds.github.io/DS701-Course-Notes/02C-Sklearn.html) or online resources for guidance. \n",
    "\n",
    "#### From here on use the 'df_new' variable instead of 'df'"
   ]
  },
  {
   "cell_type": "markdown",
   "metadata": {
    "deletable": false,
    "editable": false
   },
   "source": [
    "We saw in lecture that models are trained on the 'training' set and evaluated on unseen data on the 'testing' set. The dataset has 'feature' (`X_train`, `X_test`) and the 'outcome' (`y_train`, `y_test`) variables. \n",
    "\n",
    "**Question 4a:** Write a function called `split_data` that takes a dataframe as its only parameter, splits it into training and test splits and returns them. Use 20% for the testing set. \n",
    "\n",
    "Use `train_test_split` to produce the splits. Provide a `random_state` of 42 for reproducibility.\n",
    "\n",
    "`split_data` should return 4 things: X_train, X_test y_train and y_test. To do that, you need to pass in the X *and* the y (income column) to `train_test_split`."
   ]
  },
  {
   "cell_type": "code",
   "execution_count": null,
   "metadata": {
    "tags": [
     "otter_answer_cell"
    ]
   },
   "outputs": [],
   "source": [
    "def split_data(df):\n",
    "    ..."
   ]
  },
  {
   "cell_type": "code",
   "execution_count": null,
   "metadata": {
    "deletable": false,
    "editable": false
   },
   "outputs": [
    {
     "data": {
      "text/html": [
       "<p><strong style='color: red;'><pre style='display: inline;'>q4a</pre> results:</strong></p><p><strong><pre style='display: inline;'>q4a - 1</pre> result:</strong></p><pre>    ❌ Test case failed\n",
       "    Trying:\n",
       "        def test_split_data():\n",
       "            df_new = pd.read_csv('adult.csv').drop(columns=['native-country', 'fnlwgt']).dropna()\n",
       "            output = split_data(df_new)\n",
       "            assert len(output) == 4, 'split_data() should return 4 things. Make sure you pass both the X and the y to train_test_split.'\n",
       "            (X_train, X_test, y_train, y_test) = output\n",
       "            assert len(X_train) + len(X_test) == len(df_new), 'The splits do not add up to the original data size.'\n",
       "            assert len(y_train) + len(y_test) == len(df_new), 'The splits do not add up to the original data size.'\n",
       "            assert np.all(X_train.columns == X_test.columns), 'The columns in X_train and X_test are not the same.'\n",
       "            assert len(X_train) > 0 and len(X_test) > 0, 'Some of the splits are empty. Make sure you pass the correct values to train_test_split'\n",
       "            assert len(y_train) > 0 and len(y_test) > 0, 'Some of the splits are empty. Make sure you pass the correct values to train_test_split'\n",
       "    Expecting nothing\n",
       "    ok\n",
       "    Trying:\n",
       "        test_split_data()\n",
       "    Expecting nothing\n",
       "    **********************************************************************\n",
       "    Line 11, in q4a 0\n",
       "    Failed example:\n",
       "        test_split_data()\n",
       "    Exception raised:\n",
       "        Traceback (most recent call last):\n",
       "          File \"C:\\Program Files\\WindowsApps\\PythonSoftwareFoundation.Python.3.13_3.13.2032.0_x64__qbz5n2kfra8p0\\Lib\\doctest.py\", line 1398, in __run\n",
       "            exec(compile(example.source, filename, \"single\",\n",
       "            ~~~~^^^^^^^^^^^^^^^^^^^^^^^^^^^^^^^^^^^^^^^^^^^^\n",
       "                         compileflags, True), test.globs)\n",
       "                         ^^^^^^^^^^^^^^^^^^^^^^^^^^^^^^^^\n",
       "          File \"<doctest q4a 0[1]>\", line 1, in <module>\n",
       "            test_split_data()\n",
       "            ~~~~~~~~~~~~~~~^^\n",
       "          File \"<doctest q4a 0[0]>\", line 4, in test_split_data\n",
       "            assert len(output) == 4, 'split_data() should return 4 things. Make sure you pass both the X and the y to train_test_split.'\n",
       "                   ~~~^^^^^^^^\n",
       "        TypeError: object of type 'NoneType' has no len()\n",
       "</pre>"
      ],
      "text/plain": [
       "q4a results:\n",
       "    q4a - 1 result:\n",
       "        ❌ Test case failed\n",
       "        Trying:\n",
       "            def test_split_data():\n",
       "                df_new = pd.read_csv('adult.csv').drop(columns=['native-country', 'fnlwgt']).dropna()\n",
       "                output = split_data(df_new)\n",
       "                assert len(output) == 4, 'split_data() should return 4 things. Make sure you pass both the X and the y to train_test_split.'\n",
       "                (X_train, X_test, y_train, y_test) = output\n",
       "                assert len(X_train) + len(X_test) == len(df_new), 'The splits do not add up to the original data size.'\n",
       "                assert len(y_train) + len(y_test) == len(df_new), 'The splits do not add up to the original data size.'\n",
       "                assert np.all(X_train.columns == X_test.columns), 'The columns in X_train and X_test are not the same.'\n",
       "                assert len(X_train) > 0 and len(X_test) > 0, 'Some of the splits are empty. Make sure you pass the correct values to train_test_split'\n",
       "                assert len(y_train) > 0 and len(y_test) > 0, 'Some of the splits are empty. Make sure you pass the correct values to train_test_split'\n",
       "        Expecting nothing\n",
       "        ok\n",
       "        Trying:\n",
       "            test_split_data()\n",
       "        Expecting nothing\n",
       "        **********************************************************************\n",
       "        Line 11, in q4a 0\n",
       "        Failed example:\n",
       "            test_split_data()\n",
       "        Exception raised:\n",
       "            Traceback (most recent call last):\n",
       "              File \"C:\\Program Files\\WindowsApps\\PythonSoftwareFoundation.Python.3.13_3.13.2032.0_x64__qbz5n2kfra8p0\\Lib\\doctest.py\", line 1398, in __run\n",
       "                exec(compile(example.source, filename, \"single\",\n",
       "                ~~~~^^^^^^^^^^^^^^^^^^^^^^^^^^^^^^^^^^^^^^^^^^^^\n",
       "                             compileflags, True), test.globs)\n",
       "                             ^^^^^^^^^^^^^^^^^^^^^^^^^^^^^^^^\n",
       "              File \"<doctest q4a 0[1]>\", line 1, in <module>\n",
       "                test_split_data()\n",
       "                ~~~~~~~~~~~~~~~^^\n",
       "              File \"<doctest q4a 0[0]>\", line 4, in test_split_data\n",
       "                assert len(output) == 4, 'split_data() should return 4 things. Make sure you pass both the X and the y to train_test_split.'\n",
       "                       ~~~^^^^^^^^\n",
       "            TypeError: object of type 'NoneType' has no len()"
      ]
     },
     "execution_count": 106,
     "metadata": {},
     "output_type": "execute_result"
    }
   ],
   "source": [
    "grader.check(\"q4a\")"
   ]
  },
  {
   "cell_type": "markdown",
   "metadata": {
    "deletable": false,
    "editable": false,
    "vscode": {
     "languageId": "raw"
    }
   },
   "source": [
    "**Question 4b**: Write a function `preprocess_data` that takes X_train, y_train, X_test, and y_test as input (the splits we created earlier!) and does the following:\n",
    "\n",
    " - Scale the *numerical* columns using sklearn's `MinMaxScaler` to the range [0,1] for both train and test sets\n",
    "  \n",
    " - Replace \"<=50K\" with 0 and \">50K\" with 1 in both y_train and y_test\n",
    "\n",
    " - One-hot encode the categorical columns for both train and test sets. Check the next cell for some hints! \n",
    "  \n",
    "The function should then return the preprocessed X_train, y_train, X_test, and y_test\n",
    "\n",
    "Refer to the material below and [sklearn course notes](https://tools4ds.github.io/DS701-Course-Notes/02C-Sklearn.html#prepare-the-dataset) for help! "
   ]
  },
  {
   "cell_type": "markdown",
   "metadata": {
    "deletable": false,
    "editable": false
   },
   "source": [
    "One hot encoding is a way of turning textual data into numbers, so that models can work with them. \n",
    "\n",
    "Pandas has a method called `pd.get_dummies()` that can do one-hot encoding. \n",
    "\n",
    "Let's illustrate with an example.  Let's say we are describing 4 people, each\n",
    "with attribute 'Gender' and 'City' where they reside.\n",
    "\n",
    "Create a dictionary with 'City' and 'Gender' keys, each with a length 4 list. "
   ]
  },
  {
   "cell_type": "code",
   "execution_count": null,
   "metadata": {
    "deletable": false,
    "editable": false
   },
   "outputs": [
    {
     "name": "stdout",
     "output_type": "stream",
     "text": [
      "{'City': ['New York', 'Los Angeles', 'New York', 'Chicago'], 'Gender': ['Female', 'Male', 'Male', 'Female']}\n"
     ]
    }
   ],
   "source": [
    "# Sample DataFrame with categorical columns\n",
    "data = {'City': ['New York', 'Los Angeles', 'New York', 'Chicago'],\n",
    "        'Gender': ['Female', 'Male', 'Male', 'Female']}\n",
    "print(data)"
   ]
  },
  {
   "cell_type": "markdown",
   "metadata": {
    "deletable": false,
    "editable": false
   },
   "source": [
    "We can give that to Pandas `pd.DataFrame()` and it will create a DataFrame with\n",
    "a City column and a Gender column."
   ]
  },
  {
   "cell_type": "code",
   "execution_count": null,
   "metadata": {
    "deletable": false,
    "editable": false
   },
   "outputs": [
    {
     "name": "stdout",
     "output_type": "stream",
     "text": [
      "          City  Gender\n",
      "0     New York  Female\n",
      "1  Los Angeles    Male\n",
      "2     New York    Male\n",
      "3      Chicago  Female\n"
     ]
    }
   ],
   "source": [
    "df = pd.DataFrame(data) \n",
    "print(df)"
   ]
  },
  {
   "cell_type": "markdown",
   "metadata": {
    "deletable": false,
    "editable": false
   },
   "source": [
    "Now we can call `pd.get_dummies` with the dataframe and it will convert each\n",
    "categorical column into a set of columns with each category and column entries\n",
    "of True or False (e.g. 1 or 0)."
   ]
  },
  {
   "cell_type": "code",
   "execution_count": null,
   "metadata": {
    "deletable": false,
    "editable": false
   },
   "outputs": [],
   "source": [
    "df_encoded = pd.get_dummies(df, columns=['City', 'Gender'])\n",
    "# notice how I'm passing in the columns -- you should do this too! Hint: you wrote a function for this earlier. "
   ]
  },
  {
   "cell_type": "code",
   "execution_count": null,
   "metadata": {
    "deletable": false,
    "editable": false
   },
   "outputs": [
    {
     "name": "stdout",
     "output_type": "stream",
     "text": [
      "   City_Chicago  City_Los Angeles  City_New York  Gender_Female  Gender_Male\n",
      "0         False             False           True           True        False\n",
      "1         False              True          False          False         True\n",
      "2         False             False           True          False         True\n",
      "3          True             False          False           True        False\n"
     ]
    }
   ],
   "source": [
    "print(df_encoded)"
   ]
  },
  {
   "cell_type": "markdown",
   "metadata": {
    "deletable": false,
    "editable": false
   },
   "source": [
    "   Notice how now every `City` value has its own column, and that every row with a city has a 1 for that city (row 1 in the old dataframe has New York for the `City`, and row in the new dataframe has a 1 for `City_New York`). Everywhere else you have a 0. "
   ]
  },
  {
   "cell_type": "code",
   "execution_count": null,
   "metadata": {
    "tags": [
     "otter_answer_cell"
    ]
   },
   "outputs": [],
   "source": [
    "def preprocess_data(X_train, X_test, y_train, y_test):\n",
    "    ..."
   ]
  },
  {
   "cell_type": "code",
   "execution_count": null,
   "metadata": {
    "deletable": false,
    "editable": false
   },
   "outputs": [
    {
     "data": {
      "text/html": [
       "<p><strong style='color: red;'><pre style='display: inline;'>q4b</pre> results:</strong></p><p><strong><pre style='display: inline;'>q4b - 1</pre> result:</strong></p><pre>    ❌ Test case failed\n",
       "    Trying:\n",
       "        def test_correct_X():\n",
       "            with warnings.catch_warnings():\n",
       "                warnings.simplefilter('ignore', FutureWarning)\n",
       "                (X_train, X_test, y_train, y_test) = split_data(df_new)\n",
       "                (X_train, X_test, y_train, y_test) = preprocess_data(X_train, X_test, y_train, y_test)\n",
       "            assert np.all(X_train.columns == X_test.columns), 'The columns in X_train and X_test are not the same.'\n",
       "            assert np.allclose(np.mean(X_train), np.mean(X_test), atol=0.01), 'The mean of every column is not the same in X_train and X_test.'\n",
       "            assert np.all((X_train >= 0) & (X_train <= 1)), 'X_train has values that are not between 0 and 1.'\n",
       "            assert np.all((X_test >= 0) & (X_test <= 1)), 'X_test has values that are not between 0 and 1.'\n",
       "            assert np.all((np.mean(X_train) >= 0) & (np.mean(X_train) <= 1)), 'X_train has columns with mean values not between 0 and 1.'\n",
       "            assert np.all((np.mean(X_test) >= 0) & (np.mean(X_test) <= 1)), 'X_test has columns with mean values not between 0 and 1.'\n",
       "    Expecting nothing\n",
       "    ok\n",
       "    Trying:\n",
       "        def test_correct_y():\n",
       "            splits = train_test_split(df_new.drop(columns='income'), df_new['income'], test_size=0.2, random_state=42)\n",
       "            (X_train, X_test, y_train, y_test) = splits\n",
       "            with warnings.catch_warnings():\n",
       "                warnings.simplefilter('ignore', FutureWarning)\n",
       "                (X_train, X_test, y_train, y_test) = preprocess_data(X_train, X_test, y_train, y_test)\n",
       "            assert np.all(y_train.isin([0, 1])), 'y_train has values that are not 0 or 1.'\n",
       "            assert np.all(y_test.isin([0, 1])), 'y_test has values that are not 0 or 1.'\n",
       "    Expecting nothing\n",
       "    ok\n",
       "    Trying:\n",
       "        test_correct_X()\n",
       "    Expecting nothing\n",
       "    **********************************************************************\n",
       "    Line 20, in q4b 0\n",
       "    Failed example:\n",
       "        test_correct_X()\n",
       "    Exception raised:\n",
       "        Traceback (most recent call last):\n",
       "          File \"C:\\Program Files\\WindowsApps\\PythonSoftwareFoundation.Python.3.13_3.13.2032.0_x64__qbz5n2kfra8p0\\Lib\\doctest.py\", line 1398, in __run\n",
       "            exec(compile(example.source, filename, \"single\",\n",
       "            ~~~~^^^^^^^^^^^^^^^^^^^^^^^^^^^^^^^^^^^^^^^^^^^^\n",
       "                         compileflags, True), test.globs)\n",
       "                         ^^^^^^^^^^^^^^^^^^^^^^^^^^^^^^^^\n",
       "          File \"<doctest q4b 0[2]>\", line 1, in <module>\n",
       "            test_correct_X()\n",
       "            ~~~~~~~~~~~~~~^^\n",
       "          File \"<doctest q4b 0[0]>\", line 4, in test_correct_X\n",
       "            (X_train, X_test, y_train, y_test) = split_data(df_new)\n",
       "            ^^^^^^^^^^^^^^^^^^^^^^^^^^^^^^^^^^\n",
       "        TypeError: cannot unpack non-iterable NoneType object\n",
       "    Trying:\n",
       "        test_correct_y()\n",
       "    Expecting nothing\n",
       "    **********************************************************************\n",
       "    Line 21, in q4b 0\n",
       "    Failed example:\n",
       "        test_correct_y()\n",
       "    Exception raised:\n",
       "        Traceback (most recent call last):\n",
       "          File \"C:\\Program Files\\WindowsApps\\PythonSoftwareFoundation.Python.3.13_3.13.2032.0_x64__qbz5n2kfra8p0\\Lib\\doctest.py\", line 1398, in __run\n",
       "            exec(compile(example.source, filename, \"single\",\n",
       "            ~~~~^^^^^^^^^^^^^^^^^^^^^^^^^^^^^^^^^^^^^^^^^^^^\n",
       "                         compileflags, True), test.globs)\n",
       "                         ^^^^^^^^^^^^^^^^^^^^^^^^^^^^^^^^\n",
       "          File \"<doctest q4b 0[3]>\", line 1, in <module>\n",
       "            test_correct_y()\n",
       "            ~~~~~~~~~~~~~~^^\n",
       "          File \"<doctest q4b 0[1]>\", line 6, in test_correct_y\n",
       "            (X_train, X_test, y_train, y_test) = preprocess_data(X_train, X_test, y_train, y_test)\n",
       "            ^^^^^^^^^^^^^^^^^^^^^^^^^^^^^^^^^^\n",
       "        TypeError: cannot unpack non-iterable NoneType object\n",
       "</pre>"
      ],
      "text/plain": [
       "q4b results:\n",
       "    q4b - 1 result:\n",
       "        ❌ Test case failed\n",
       "        Trying:\n",
       "            def test_correct_X():\n",
       "                with warnings.catch_warnings():\n",
       "                    warnings.simplefilter('ignore', FutureWarning)\n",
       "                    (X_train, X_test, y_train, y_test) = split_data(df_new)\n",
       "                    (X_train, X_test, y_train, y_test) = preprocess_data(X_train, X_test, y_train, y_test)\n",
       "                assert np.all(X_train.columns == X_test.columns), 'The columns in X_train and X_test are not the same.'\n",
       "                assert np.allclose(np.mean(X_train), np.mean(X_test), atol=0.01), 'The mean of every column is not the same in X_train and X_test.'\n",
       "                assert np.all((X_train >= 0) & (X_train <= 1)), 'X_train has values that are not between 0 and 1.'\n",
       "                assert np.all((X_test >= 0) & (X_test <= 1)), 'X_test has values that are not between 0 and 1.'\n",
       "                assert np.all((np.mean(X_train) >= 0) & (np.mean(X_train) <= 1)), 'X_train has columns with mean values not between 0 and 1.'\n",
       "                assert np.all((np.mean(X_test) >= 0) & (np.mean(X_test) <= 1)), 'X_test has columns with mean values not between 0 and 1.'\n",
       "        Expecting nothing\n",
       "        ok\n",
       "        Trying:\n",
       "            def test_correct_y():\n",
       "                splits = train_test_split(df_new.drop(columns='income'), df_new['income'], test_size=0.2, random_state=42)\n",
       "                (X_train, X_test, y_train, y_test) = splits\n",
       "                with warnings.catch_warnings():\n",
       "                    warnings.simplefilter('ignore', FutureWarning)\n",
       "                    (X_train, X_test, y_train, y_test) = preprocess_data(X_train, X_test, y_train, y_test)\n",
       "                assert np.all(y_train.isin([0, 1])), 'y_train has values that are not 0 or 1.'\n",
       "                assert np.all(y_test.isin([0, 1])), 'y_test has values that are not 0 or 1.'\n",
       "        Expecting nothing\n",
       "        ok\n",
       "        Trying:\n",
       "            test_correct_X()\n",
       "        Expecting nothing\n",
       "        **********************************************************************\n",
       "        Line 20, in q4b 0\n",
       "        Failed example:\n",
       "            test_correct_X()\n",
       "        Exception raised:\n",
       "            Traceback (most recent call last):\n",
       "              File \"C:\\Program Files\\WindowsApps\\PythonSoftwareFoundation.Python.3.13_3.13.2032.0_x64__qbz5n2kfra8p0\\Lib\\doctest.py\", line 1398, in __run\n",
       "                exec(compile(example.source, filename, \"single\",\n",
       "                ~~~~^^^^^^^^^^^^^^^^^^^^^^^^^^^^^^^^^^^^^^^^^^^^\n",
       "                             compileflags, True), test.globs)\n",
       "                             ^^^^^^^^^^^^^^^^^^^^^^^^^^^^^^^^\n",
       "              File \"<doctest q4b 0[2]>\", line 1, in <module>\n",
       "                test_correct_X()\n",
       "                ~~~~~~~~~~~~~~^^\n",
       "              File \"<doctest q4b 0[0]>\", line 4, in test_correct_X\n",
       "                (X_train, X_test, y_train, y_test) = split_data(df_new)\n",
       "                ^^^^^^^^^^^^^^^^^^^^^^^^^^^^^^^^^^\n",
       "            TypeError: cannot unpack non-iterable NoneType object\n",
       "        Trying:\n",
       "            test_correct_y()\n",
       "        Expecting nothing\n",
       "        **********************************************************************\n",
       "        Line 21, in q4b 0\n",
       "        Failed example:\n",
       "            test_correct_y()\n",
       "        Exception raised:\n",
       "            Traceback (most recent call last):\n",
       "              File \"C:\\Program Files\\WindowsApps\\PythonSoftwareFoundation.Python.3.13_3.13.2032.0_x64__qbz5n2kfra8p0\\Lib\\doctest.py\", line 1398, in __run\n",
       "                exec(compile(example.source, filename, \"single\",\n",
       "                ~~~~^^^^^^^^^^^^^^^^^^^^^^^^^^^^^^^^^^^^^^^^^^^^\n",
       "                             compileflags, True), test.globs)\n",
       "                             ^^^^^^^^^^^^^^^^^^^^^^^^^^^^^^^^\n",
       "              File \"<doctest q4b 0[3]>\", line 1, in <module>\n",
       "                test_correct_y()\n",
       "                ~~~~~~~~~~~~~~^^\n",
       "              File \"<doctest q4b 0[1]>\", line 6, in test_correct_y\n",
       "                (X_train, X_test, y_train, y_test) = preprocess_data(X_train, X_test, y_train, y_test)\n",
       "                ^^^^^^^^^^^^^^^^^^^^^^^^^^^^^^^^^^\n",
       "            TypeError: cannot unpack non-iterable NoneType object"
      ]
     },
     "execution_count": 112,
     "metadata": {},
     "output_type": "execute_result"
    }
   ],
   "source": [
    "grader.check(\"q4b\")"
   ]
  },
  {
   "cell_type": "markdown",
   "metadata": {
    "deletable": false,
    "editable": false,
    "vscode": {
     "languageId": "raw"
    }
   },
   "source": [
    "Let's get to training! Remember, we're trying to predict whether income is more then 50k (>50k), or less than or equal to (<=50k).\n",
    "\n",
    "**Question 4c:** Write a function called train_model that takes the training splits (X_train and y_train) as its parameters. \n",
    "\n",
    "- Initialize the logistic regression model\n",
    "- Fit it to our data. (Training step)\n",
    "\n",
    "At the end, return the fitted model. \n",
    "\n",
    "You can refer to [LogisticRegression](https://scikit-learn.org/stable/modules/generated/sklearn.linear_model.LogisticRegression.html)"
   ]
  },
  {
   "cell_type": "code",
   "execution_count": null,
   "metadata": {
    "tags": [
     "otter_answer_cell"
    ]
   },
   "outputs": [],
   "source": [
    "def train_model(X_train, y_train):\n",
    "    ..."
   ]
  },
  {
   "cell_type": "code",
   "execution_count": null,
   "metadata": {
    "deletable": false,
    "editable": false
   },
   "outputs": [
    {
     "data": {
      "text/html": [
       "<p><strong style='color: red;'><pre style='display: inline;'>q4c</pre> results:</strong></p><p><strong><pre style='display: inline;'>q4c - 1</pre> result:</strong></p><pre>    ❌ Test case failed\n",
       "    Trying:\n",
       "        def test_train_model():\n",
       "            df_new = pd.read_csv('adult.csv').drop(columns=['native-country', 'fnlwgt']).dropna()\n",
       "            (X_train, X_test, y_train, y_test) = split_data(df_new)\n",
       "            with warnings.catch_warnings():\n",
       "                warnings.simplefilter('ignore')\n",
       "                (X_train, X_test, y_train, y_test) = preprocess_data(X_train, X_test, y_train, y_test)\n",
       "                model = train_model(X_train, y_train)\n",
       "            return isinstance(model, LogisticRegression)\n",
       "    Expecting nothing\n",
       "    ok\n",
       "    Trying:\n",
       "        test_train_model()\n",
       "    Expecting:\n",
       "        True\n",
       "    **********************************************************************\n",
       "    Line 9, in q4c 0\n",
       "    Failed example:\n",
       "        test_train_model()\n",
       "    Exception raised:\n",
       "        Traceback (most recent call last):\n",
       "          File \"C:\\Program Files\\WindowsApps\\PythonSoftwareFoundation.Python.3.13_3.13.2032.0_x64__qbz5n2kfra8p0\\Lib\\doctest.py\", line 1398, in __run\n",
       "            exec(compile(example.source, filename, \"single\",\n",
       "            ~~~~^^^^^^^^^^^^^^^^^^^^^^^^^^^^^^^^^^^^^^^^^^^^\n",
       "                         compileflags, True), test.globs)\n",
       "                         ^^^^^^^^^^^^^^^^^^^^^^^^^^^^^^^^\n",
       "          File \"<doctest q4c 0[1]>\", line 1, in <module>\n",
       "            test_train_model()\n",
       "            ~~~~~~~~~~~~~~~~^^\n",
       "          File \"<doctest q4c 0[0]>\", line 3, in test_train_model\n",
       "            (X_train, X_test, y_train, y_test) = split_data(df_new)\n",
       "            ^^^^^^^^^^^^^^^^^^^^^^^^^^^^^^^^^^\n",
       "        TypeError: cannot unpack non-iterable NoneType object\n",
       "</pre>"
      ],
      "text/plain": [
       "q4c results:\n",
       "    q4c - 1 result:\n",
       "        ❌ Test case failed\n",
       "        Trying:\n",
       "            def test_train_model():\n",
       "                df_new = pd.read_csv('adult.csv').drop(columns=['native-country', 'fnlwgt']).dropna()\n",
       "                (X_train, X_test, y_train, y_test) = split_data(df_new)\n",
       "                with warnings.catch_warnings():\n",
       "                    warnings.simplefilter('ignore')\n",
       "                    (X_train, X_test, y_train, y_test) = preprocess_data(X_train, X_test, y_train, y_test)\n",
       "                    model = train_model(X_train, y_train)\n",
       "                return isinstance(model, LogisticRegression)\n",
       "        Expecting nothing\n",
       "        ok\n",
       "        Trying:\n",
       "            test_train_model()\n",
       "        Expecting:\n",
       "            True\n",
       "        **********************************************************************\n",
       "        Line 9, in q4c 0\n",
       "        Failed example:\n",
       "            test_train_model()\n",
       "        Exception raised:\n",
       "            Traceback (most recent call last):\n",
       "              File \"C:\\Program Files\\WindowsApps\\PythonSoftwareFoundation.Python.3.13_3.13.2032.0_x64__qbz5n2kfra8p0\\Lib\\doctest.py\", line 1398, in __run\n",
       "                exec(compile(example.source, filename, \"single\",\n",
       "                ~~~~^^^^^^^^^^^^^^^^^^^^^^^^^^^^^^^^^^^^^^^^^^^^\n",
       "                             compileflags, True), test.globs)\n",
       "                             ^^^^^^^^^^^^^^^^^^^^^^^^^^^^^^^^\n",
       "              File \"<doctest q4c 0[1]>\", line 1, in <module>\n",
       "                test_train_model()\n",
       "                ~~~~~~~~~~~~~~~~^^\n",
       "              File \"<doctest q4c 0[0]>\", line 3, in test_train_model\n",
       "                (X_train, X_test, y_train, y_test) = split_data(df_new)\n",
       "                ^^^^^^^^^^^^^^^^^^^^^^^^^^^^^^^^^^\n",
       "            TypeError: cannot unpack non-iterable NoneType object"
      ]
     },
     "execution_count": 114,
     "metadata": {},
     "output_type": "execute_result"
    }
   ],
   "source": [
    "grader.check(\"q4c\")"
   ]
  },
  {
   "cell_type": "markdown",
   "metadata": {
    "deletable": false,
    "editable": false,
    "vscode": {
     "languageId": "raw"
    }
   },
   "source": [
    "Let's evaluate the performance of our model! \n",
    "\n",
    "**Question 4d:** Write a function called evaluate_model that takes the fitted model and `X_test`, `y_test` as parameters, runs the model on the testing features (`X_test`) and returns the *accuracy score* of the predictions against the ground truth (`y_test`). \n",
    "\n",
    "You can refer to [sklearn metrics](https://scikit-learn.org/stable/modules/model_evaluation.html#regression-metrics)."
   ]
  },
  {
   "cell_type": "code",
   "execution_count": null,
   "metadata": {
    "tags": [
     "otter_answer_cell"
    ]
   },
   "outputs": [],
   "source": [
    "from sklearn.metrics import accuracy_score\n",
    "\n",
    "def evaluate_model(model, X_test, y_test):\n",
    "    ..."
   ]
  },
  {
   "cell_type": "code",
   "execution_count": null,
   "metadata": {
    "deletable": false,
    "editable": false
   },
   "outputs": [
    {
     "data": {
      "text/html": [
       "<p><strong style='color: red;'><pre style='display: inline;'>q4d</pre> results:</strong></p><p><strong><pre style='display: inline;'>q4d - 1</pre> result:</strong></p><pre>    ❌ Test case failed\n",
       "    Trying:\n",
       "        def test_evaluate_model():\n",
       "            df_new = pd.read_csv('adult.csv').drop(columns=['native-country', 'fnlwgt']).dropna()\n",
       "            (X_train, X_test, y_train, y_test) = split_data(df_new)\n",
       "            with warnings.catch_warnings():\n",
       "                warnings.simplefilter('ignore')\n",
       "                (X_train, X_test, y_train, y_test) = preprocess_data(X_train, X_test, y_train, y_test)\n",
       "                model = train_model(X_train, y_train)\n",
       "                model = train_model(X_train, y_train)\n",
       "                accuracy = evaluate_model(model, X_test, y_test)\n",
       "            return bool(np.isclose(accuracy, 0.85, atol=0.1))\n",
       "    Expecting nothing\n",
       "    ok\n",
       "    Trying:\n",
       "        test_evaluate_model()\n",
       "    Expecting:\n",
       "        True\n",
       "    **********************************************************************\n",
       "    Line 11, in q4d 0\n",
       "    Failed example:\n",
       "        test_evaluate_model()\n",
       "    Exception raised:\n",
       "        Traceback (most recent call last):\n",
       "          File \"C:\\Program Files\\WindowsApps\\PythonSoftwareFoundation.Python.3.13_3.13.2032.0_x64__qbz5n2kfra8p0\\Lib\\doctest.py\", line 1398, in __run\n",
       "            exec(compile(example.source, filename, \"single\",\n",
       "            ~~~~^^^^^^^^^^^^^^^^^^^^^^^^^^^^^^^^^^^^^^^^^^^^\n",
       "                         compileflags, True), test.globs)\n",
       "                         ^^^^^^^^^^^^^^^^^^^^^^^^^^^^^^^^\n",
       "          File \"<doctest q4d 0[1]>\", line 1, in <module>\n",
       "            test_evaluate_model()\n",
       "            ~~~~~~~~~~~~~~~~~~~^^\n",
       "          File \"<doctest q4d 0[0]>\", line 3, in test_evaluate_model\n",
       "            (X_train, X_test, y_train, y_test) = split_data(df_new)\n",
       "            ^^^^^^^^^^^^^^^^^^^^^^^^^^^^^^^^^^\n",
       "        TypeError: cannot unpack non-iterable NoneType object\n",
       "</pre>"
      ],
      "text/plain": [
       "q4d results:\n",
       "    q4d - 1 result:\n",
       "        ❌ Test case failed\n",
       "        Trying:\n",
       "            def test_evaluate_model():\n",
       "                df_new = pd.read_csv('adult.csv').drop(columns=['native-country', 'fnlwgt']).dropna()\n",
       "                (X_train, X_test, y_train, y_test) = split_data(df_new)\n",
       "                with warnings.catch_warnings():\n",
       "                    warnings.simplefilter('ignore')\n",
       "                    (X_train, X_test, y_train, y_test) = preprocess_data(X_train, X_test, y_train, y_test)\n",
       "                    model = train_model(X_train, y_train)\n",
       "                    model = train_model(X_train, y_train)\n",
       "                    accuracy = evaluate_model(model, X_test, y_test)\n",
       "                return bool(np.isclose(accuracy, 0.85, atol=0.1))\n",
       "        Expecting nothing\n",
       "        ok\n",
       "        Trying:\n",
       "            test_evaluate_model()\n",
       "        Expecting:\n",
       "            True\n",
       "        **********************************************************************\n",
       "        Line 11, in q4d 0\n",
       "        Failed example:\n",
       "            test_evaluate_model()\n",
       "        Exception raised:\n",
       "            Traceback (most recent call last):\n",
       "              File \"C:\\Program Files\\WindowsApps\\PythonSoftwareFoundation.Python.3.13_3.13.2032.0_x64__qbz5n2kfra8p0\\Lib\\doctest.py\", line 1398, in __run\n",
       "                exec(compile(example.source, filename, \"single\",\n",
       "                ~~~~^^^^^^^^^^^^^^^^^^^^^^^^^^^^^^^^^^^^^^^^^^^^\n",
       "                             compileflags, True), test.globs)\n",
       "                             ^^^^^^^^^^^^^^^^^^^^^^^^^^^^^^^^\n",
       "              File \"<doctest q4d 0[1]>\", line 1, in <module>\n",
       "                test_evaluate_model()\n",
       "                ~~~~~~~~~~~~~~~~~~~^^\n",
       "              File \"<doctest q4d 0[0]>\", line 3, in test_evaluate_model\n",
       "                (X_train, X_test, y_train, y_test) = split_data(df_new)\n",
       "                ^^^^^^^^^^^^^^^^^^^^^^^^^^^^^^^^^^\n",
       "            TypeError: cannot unpack non-iterable NoneType object"
      ]
     },
     "execution_count": 116,
     "metadata": {},
     "output_type": "execute_result"
    }
   ],
   "source": [
    "grader.check(\"q4d\")"
   ]
  },
  {
   "cell_type": "markdown",
   "metadata": {
    "deletable": false,
    "editable": false
   },
   "source": [
    "## Submission\n",
    "\n",
    "Make sure you have run all cells in your notebook in order before running the cell below, so that all images/graphs appear in the output. The cell below will generate a zip file for you to submit. **Please save before exporting!**\n",
    "\n",
    "Execute all cells and save the notebook before submitting."
   ]
  },
  {
   "cell_type": "code",
   "execution_count": null,
   "metadata": {
    "deletable": false,
    "editable": false
   },
   "outputs": [
    {
     "name": "stderr",
     "output_type": "stream",
     "text": [
      "c:\\Users\\alber\\Desktop\\.venv\\Lib\\site-packages\\otter\\check\\notebook.py:494: UserWarning: Could not locate a PDF to include\n",
      "  warnings.warn(\"Could not locate a PDF to include\")\n"
     ]
    },
    {
     "ename": "UnicodeDecodeError",
     "evalue": "'charmap' codec can't decode byte 0x9d in position 220404: character maps to <undefined>",
     "output_type": "error",
     "traceback": [
      "\u001b[31m---------------------------------------------------------------------------\u001b[39m",
      "\u001b[31mUnicodeDecodeError\u001b[39m                        Traceback (most recent call last)",
      "\u001b[36mCell\u001b[39m\u001b[36m \u001b[39m\u001b[32mIn[117]\u001b[39m\u001b[32m, line 2\u001b[39m\n\u001b[32m      1\u001b[39m \u001b[38;5;66;03m# Save your notebook first, then run this cell to export your submission.\u001b[39;00m\n\u001b[32m----> \u001b[39m\u001b[32m2\u001b[39m \u001b[43mgrader\u001b[49m\u001b[43m.\u001b[49m\u001b[43mexport\u001b[49m\u001b[43m(\u001b[49m\u001b[43mrun_tests\u001b[49m\u001b[43m=\u001b[49m\u001b[38;5;28;43;01mTrue\u001b[39;49;00m\u001b[43m)\u001b[49m\n",
      "\u001b[36mFile \u001b[39m\u001b[32mc:\\Users\\alber\\Desktop\\.venv\\Lib\\site-packages\\otter\\check\\utils.py:206\u001b[39m, in \u001b[36mgrading_mode_disabled\u001b[39m\u001b[34m(wrapped, self, args, kwargs)\u001b[39m\n\u001b[32m    204\u001b[39m \u001b[38;5;28;01mif\u001b[39;00m \u001b[38;5;28mtype\u001b[39m(\u001b[38;5;28mself\u001b[39m)._grading_mode:\n\u001b[32m    205\u001b[39m     \u001b[38;5;28;01mreturn\u001b[39;00m\n\u001b[32m--> \u001b[39m\u001b[32m206\u001b[39m \u001b[38;5;28;01mreturn\u001b[39;00m \u001b[43mwrapped\u001b[49m\u001b[43m(\u001b[49m\u001b[43m*\u001b[49m\u001b[43margs\u001b[49m\u001b[43m,\u001b[49m\u001b[43m \u001b[49m\u001b[43m*\u001b[49m\u001b[43m*\u001b[49m\u001b[43mkwargs\u001b[49m\u001b[43m)\u001b[49m\n",
      "\u001b[36mFile \u001b[39m\u001b[32mc:\\Users\\alber\\Desktop\\.venv\\Lib\\site-packages\\otter\\check\\utils.py:188\u001b[39m, in \u001b[36mincompatible_with.<locals>.incompatible\u001b[39m\u001b[34m(wrapped, self, args, kwargs)\u001b[39m\n\u001b[32m    186\u001b[39m     \u001b[38;5;28;01melse\u001b[39;00m:\n\u001b[32m    187\u001b[39m         \u001b[38;5;28;01mreturn\u001b[39;00m\n\u001b[32m--> \u001b[39m\u001b[32m188\u001b[39m \u001b[38;5;28;01mreturn\u001b[39;00m \u001b[43mwrapped\u001b[49m\u001b[43m(\u001b[49m\u001b[43m*\u001b[49m\u001b[43margs\u001b[49m\u001b[43m,\u001b[49m\u001b[43m \u001b[49m\u001b[43m*\u001b[49m\u001b[43m*\u001b[49m\u001b[43mkwargs\u001b[49m\u001b[43m)\u001b[49m\n",
      "\u001b[36mFile \u001b[39m\u001b[32mc:\\Users\\alber\\Desktop\\.venv\\Lib\\site-packages\\otter\\check\\utils.py:242\u001b[39m, in \u001b[36mlogs_event.<locals>.event_logger\u001b[39m\u001b[34m(wrapped, self, args, kwargs)\u001b[39m\n\u001b[32m    240\u001b[39m \u001b[38;5;28;01mexcept\u001b[39;00m \u001b[38;5;167;01mException\u001b[39;00m \u001b[38;5;28;01mas\u001b[39;00m e:\n\u001b[32m    241\u001b[39m     \u001b[38;5;28mself\u001b[39m._log_event(event_type, success=\u001b[38;5;28;01mFalse\u001b[39;00m, error=e)\n\u001b[32m--> \u001b[39m\u001b[32m242\u001b[39m     \u001b[38;5;28;01mraise\u001b[39;00m e\n\u001b[32m    244\u001b[39m \u001b[38;5;28;01mif\u001b[39;00m ret \u001b[38;5;129;01mis\u001b[39;00m \u001b[38;5;28;01mNone\u001b[39;00m:\n\u001b[32m    245\u001b[39m     ret = LoggedEventReturnValue(\u001b[38;5;28;01mNone\u001b[39;00m)\n",
      "\u001b[36mFile \u001b[39m\u001b[32mc:\\Users\\alber\\Desktop\\.venv\\Lib\\site-packages\\otter\\check\\utils.py:238\u001b[39m, in \u001b[36mlogs_event.<locals>.event_logger\u001b[39m\u001b[34m(wrapped, self, args, kwargs)\u001b[39m\n\u001b[32m    233\u001b[39m \u001b[38;5;250m\u001b[39m\u001b[33;03m\"\"\"\u001b[39;00m\n\u001b[32m    234\u001b[39m \u001b[33;03mRuns a method, catching any errors and logging the call. Returns the unwrapped return value\u001b[39;00m\n\u001b[32m    235\u001b[39m \u001b[33;03mof the wrapped function.\u001b[39;00m\n\u001b[32m    236\u001b[39m \u001b[33;03m\"\"\"\u001b[39;00m\n\u001b[32m    237\u001b[39m \u001b[38;5;28;01mtry\u001b[39;00m:\n\u001b[32m--> \u001b[39m\u001b[32m238\u001b[39m     ret: Optional[LoggedEventReturnValue[T]] = \u001b[43mwrapped\u001b[49m\u001b[43m(\u001b[49m\u001b[43m*\u001b[49m\u001b[43margs\u001b[49m\u001b[43m,\u001b[49m\u001b[43m \u001b[49m\u001b[43m*\u001b[49m\u001b[43m*\u001b[49m\u001b[43mkwargs\u001b[49m\u001b[43m)\u001b[49m\n\u001b[32m    240\u001b[39m \u001b[38;5;28;01mexcept\u001b[39;00m \u001b[38;5;167;01mException\u001b[39;00m \u001b[38;5;28;01mas\u001b[39;00m e:\n\u001b[32m    241\u001b[39m     \u001b[38;5;28mself\u001b[39m._log_event(event_type, success=\u001b[38;5;28;01mFalse\u001b[39;00m, error=e)\n",
      "\u001b[36mFile \u001b[39m\u001b[32mc:\\Users\\alber\\Desktop\\.venv\\Lib\\site-packages\\otter\\check\\notebook.py:551\u001b[39m, in \u001b[36mNotebook.export\u001b[39m\u001b[34m(self, nb_path, export_path, pdf, filtering, pagebreaks, files, display_link, force_save, run_tests, ignore_log)\u001b[39m\n\u001b[32m    549\u001b[39m \u001b[38;5;28;01mif\u001b[39;00m pdf_created \u001b[38;5;129;01mor\u001b[39;00m \u001b[38;5;129;01mnot\u001b[39;00m \u001b[38;5;28mself\u001b[39m._nbmeta_config.require_no_pdf_confirmation:\n\u001b[32m    550\u001b[39m     \u001b[38;5;28;01mif\u001b[39;00m pdf_error \u001b[38;5;129;01mis\u001b[39;00m \u001b[38;5;129;01mnot\u001b[39;00m \u001b[38;5;28;01mNone\u001b[39;00m:\n\u001b[32m--> \u001b[39m\u001b[32m551\u001b[39m         \u001b[38;5;28;01mraise\u001b[39;00m pdf_error\n\u001b[32m    552\u001b[39m     continue_export()\n\u001b[32m    553\u001b[39m \u001b[38;5;28;01melse\u001b[39;00m:\n",
      "\u001b[36mFile \u001b[39m\u001b[32mc:\\Users\\alber\\Desktop\\.venv\\Lib\\site-packages\\otter\\check\\notebook.py:485\u001b[39m, in \u001b[36mNotebook.export\u001b[39m\u001b[34m(self, nb_path, export_path, pdf, filtering, pagebreaks, files, display_link, force_save, run_tests, ignore_log)\u001b[39m\n\u001b[32m    483\u001b[39m \u001b[38;5;28;01mif\u001b[39;00m pdf:\n\u001b[32m    484\u001b[39m     \u001b[38;5;28;01mtry\u001b[39;00m:\n\u001b[32m--> \u001b[39m\u001b[32m485\u001b[39m         pdf_path = \u001b[43mexport_notebook\u001b[49m\u001b[43m(\u001b[49m\u001b[43mnb_path\u001b[49m\u001b[43m,\u001b[49m\u001b[43m \u001b[49m\u001b[43mfiltering\u001b[49m\u001b[43m=\u001b[49m\u001b[43mfiltering\u001b[49m\u001b[43m,\u001b[49m\u001b[43m \u001b[49m\u001b[43mpagebreaks\u001b[49m\u001b[43m=\u001b[49m\u001b[43mpagebreaks\u001b[49m\u001b[43m)\u001b[49m\n\u001b[32m    486\u001b[39m     \u001b[38;5;28;01mexcept\u001b[39;00m \u001b[38;5;167;01mException\u001b[39;00m \u001b[38;5;28;01mas\u001b[39;00m e:\n\u001b[32m    487\u001b[39m         pdf_error = e\n",
      "\u001b[36mFile \u001b[39m\u001b[32mc:\\Users\\alber\\Desktop\\.venv\\Lib\\site-packages\\otter\\export\\__init__.py:43\u001b[39m, in \u001b[36mexport_notebook\u001b[39m\u001b[34m(nb_path, dest, exporter_type, **kwargs)\u001b[39m\n\u001b[32m     40\u001b[39m     pdf_name = os.path.splitext(nb_path)[\u001b[32m0\u001b[39m] + \u001b[33m\"\u001b[39m\u001b[33m.pdf\u001b[39m\u001b[33m\"\u001b[39m\n\u001b[32m     42\u001b[39m Exporter = get_exporter(exporter_type=exporter_type)\n\u001b[32m---> \u001b[39m\u001b[32m43\u001b[39m \u001b[43mExporter\u001b[49m\u001b[43m.\u001b[49m\u001b[43mconvert_notebook\u001b[49m\u001b[43m(\u001b[49m\u001b[43mnb_path\u001b[49m\u001b[43m,\u001b[49m\u001b[43m \u001b[49m\u001b[43mpdf_name\u001b[49m\u001b[43m,\u001b[49m\u001b[43m \u001b[49m\u001b[43m*\u001b[49m\u001b[43m*\u001b[49m\u001b[43mkwargs\u001b[49m\u001b[43m)\u001b[49m\n\u001b[32m     45\u001b[39m \u001b[38;5;28;01mreturn\u001b[39;00m pdf_name\n",
      "\u001b[36mFile \u001b[39m\u001b[32mc:\\Users\\alber\\Desktop\\.venv\\Lib\\site-packages\\otter\\export\\exporters\\via_latex.py:52\u001b[39m, in \u001b[36mPDFViaLatexExporter.convert_notebook\u001b[39m\u001b[34m(cls, nb_path, dest, xecjk, **kwargs)\u001b[39m\n\u001b[32m     49\u001b[39m \u001b[38;5;28;01mif\u001b[39;00m xecjk:\n\u001b[32m     50\u001b[39m     options[\u001b[33m\"\u001b[39m\u001b[33mtemplate\u001b[39m\u001b[33m\"\u001b[39m] = \u001b[33m\"\u001b[39m\u001b[33mvia_latex_xecjk\u001b[39m\u001b[33m\"\u001b[39m\n\u001b[32m---> \u001b[39m\u001b[32m52\u001b[39m nb = \u001b[38;5;28;43mcls\u001b[39;49m\u001b[43m.\u001b[49m\u001b[43mload_notebook\u001b[49m\u001b[43m(\u001b[49m\n\u001b[32m     53\u001b[39m \u001b[43m    \u001b[49m\u001b[43mnb_path\u001b[49m\u001b[43m,\u001b[49m\u001b[43m \u001b[49m\u001b[43mfiltering\u001b[49m\u001b[43m=\u001b[49m\u001b[43moptions\u001b[49m\u001b[43m[\u001b[49m\u001b[33;43m\"\u001b[39;49m\u001b[33;43mfiltering\u001b[39;49m\u001b[33;43m\"\u001b[39;49m\u001b[43m]\u001b[49m\u001b[43m,\u001b[49m\u001b[43m \u001b[49m\u001b[43mpagebreaks\u001b[49m\u001b[43m=\u001b[49m\u001b[43moptions\u001b[49m\u001b[43m[\u001b[49m\u001b[33;43m\"\u001b[39;49m\u001b[33;43mpagebreaks\u001b[39;49m\u001b[33;43m\"\u001b[39;49m\u001b[43m]\u001b[49m\n\u001b[32m     54\u001b[39m \u001b[43m\u001b[49m\u001b[43m)\u001b[49m\n\u001b[32m     56\u001b[39m nbconvert.TemplateExporter.extra_template_basedirs = [\u001b[38;5;28mstr\u001b[39m(TEMPLATE_DIR)]\n\u001b[32m     57\u001b[39m orig_template_name = nbconvert.TemplateExporter.template_name\n",
      "\u001b[36mFile \u001b[39m\u001b[32mc:\\Users\\alber\\Desktop\\.venv\\Lib\\site-packages\\otter\\export\\exporters\\base_exporter.py:72\u001b[39m, in \u001b[36mBaseExporter.load_notebook\u001b[39m\u001b[34m(cls, nb_path, filtering, pagebreaks)\u001b[39m\n\u001b[32m     58\u001b[39m \u001b[38;5;250m\u001b[39m\u001b[33;03m\"\"\"\u001b[39;00m\n\u001b[32m     59\u001b[39m \u001b[33;03mLoads notebook at ``nb_path`` with nbformat and returns the parsed notebookly filtered\u001b[39;00m\n\u001b[32m     60\u001b[39m \u001b[33;03mand with pagebreak metadata hidden in HTML comments.\u001b[39;00m\n\u001b[32m   (...)\u001b[39m\u001b[32m     69\u001b[39m \u001b[33;03m    ``nbformat.NotebookNode``: the parsed and (optionally) filtered notebook\u001b[39;00m\n\u001b[32m     70\u001b[39m \u001b[33;03m\"\"\"\u001b[39;00m\n\u001b[32m     71\u001b[39m \u001b[38;5;28;01mwith\u001b[39;00m \u001b[38;5;28mopen\u001b[39m(nb_path) \u001b[38;5;28;01mas\u001b[39;00m f:\n\u001b[32m---> \u001b[39m\u001b[32m72\u001b[39m     notebook = \u001b[43mnbformat\u001b[49m\u001b[43m.\u001b[49m\u001b[43mread\u001b[49m\u001b[43m(\u001b[49m\u001b[43mf\u001b[49m\u001b[43m,\u001b[49m\u001b[43m \u001b[49m\u001b[43mas_version\u001b[49m\u001b[43m=\u001b[49m\u001b[43mNBFORMAT_VERSION\u001b[49m\u001b[43m)\u001b[49m\n\u001b[32m     73\u001b[39m \u001b[38;5;28;01mif\u001b[39;00m filtering:\n\u001b[32m     74\u001b[39m     notebook = \u001b[38;5;28mcls\u001b[39m.filter_cells(notebook, pagebreaks=pagebreaks)\n",
      "\u001b[36mFile \u001b[39m\u001b[32mc:\\Users\\alber\\Desktop\\.venv\\Lib\\site-packages\\nbformat\\__init__.py:169\u001b[39m, in \u001b[36mread\u001b[39m\u001b[34m(fp, as_version, capture_validation_error, **kwargs)\u001b[39m\n\u001b[32m    141\u001b[39m \u001b[38;5;250m\u001b[39m\u001b[33;03m\"\"\"Read a notebook from a file as a NotebookNode of the given version.\u001b[39;00m\n\u001b[32m    142\u001b[39m \n\u001b[32m    143\u001b[39m \u001b[33;03mThe string can contain a notebook of any version.\u001b[39;00m\n\u001b[32m   (...)\u001b[39m\u001b[32m    165\u001b[39m \u001b[33;03m    The notebook that was read.\u001b[39;00m\n\u001b[32m    166\u001b[39m \u001b[33;03m\"\"\"\u001b[39;00m\n\u001b[32m    168\u001b[39m \u001b[38;5;28;01mtry\u001b[39;00m:\n\u001b[32m--> \u001b[39m\u001b[32m169\u001b[39m     buf = \u001b[43mfp\u001b[49m\u001b[43m.\u001b[49m\u001b[43mread\u001b[49m\u001b[43m(\u001b[49m\u001b[43m)\u001b[49m\n\u001b[32m    170\u001b[39m \u001b[38;5;28;01mexcept\u001b[39;00m \u001b[38;5;167;01mAttributeError\u001b[39;00m:\n\u001b[32m    171\u001b[39m     \u001b[38;5;28;01mwith\u001b[39;00m \u001b[38;5;28mopen\u001b[39m(fp, encoding=\u001b[33m\"\u001b[39m\u001b[33mutf8\u001b[39m\u001b[33m\"\u001b[39m) \u001b[38;5;28;01mas\u001b[39;00m f:  \u001b[38;5;66;03m# noqa: PTH123\u001b[39;00m\n",
      "\u001b[36mFile \u001b[39m\u001b[32mC:\\Program Files\\WindowsApps\\PythonSoftwareFoundation.Python.3.13_3.13.2032.0_x64__qbz5n2kfra8p0\\Lib\\encodings\\cp1252.py:23\u001b[39m, in \u001b[36mIncrementalDecoder.decode\u001b[39m\u001b[34m(self, input, final)\u001b[39m\n\u001b[32m     22\u001b[39m \u001b[38;5;28;01mdef\u001b[39;00m\u001b[38;5;250m \u001b[39m\u001b[34mdecode\u001b[39m(\u001b[38;5;28mself\u001b[39m, \u001b[38;5;28minput\u001b[39m, final=\u001b[38;5;28;01mFalse\u001b[39;00m):\n\u001b[32m---> \u001b[39m\u001b[32m23\u001b[39m     \u001b[38;5;28;01mreturn\u001b[39;00m \u001b[43mcodecs\u001b[49m\u001b[43m.\u001b[49m\u001b[43mcharmap_decode\u001b[49m\u001b[43m(\u001b[49m\u001b[38;5;28;43minput\u001b[39;49m\u001b[43m,\u001b[49m\u001b[38;5;28;43mself\u001b[39;49m\u001b[43m.\u001b[49m\u001b[43merrors\u001b[49m\u001b[43m,\u001b[49m\u001b[43mdecoding_table\u001b[49m\u001b[43m)\u001b[49m[\u001b[32m0\u001b[39m]\n",
      "\u001b[31mUnicodeDecodeError\u001b[39m: 'charmap' codec can't decode byte 0x9d in position 220404: character maps to <undefined>"
     ]
    }
   ],
   "source": [
    "# Save your notebook first, then run this cell to export your submission.\n",
    "grader.export(run_tests=True)"
   ]
  },
  {
   "cell_type": "markdown",
   "metadata": {},
   "source": [
    " "
   ]
  }
 ],
 "metadata": {
  "kernelspec": {
   "display_name": ".venv",
   "language": "python",
   "name": "python3"
  },
  "language_info": {
   "codemirror_mode": {
    "name": "ipython",
    "version": 3
   },
   "file_extension": ".py",
   "mimetype": "text/x-python",
   "name": "python",
   "nbconvert_exporter": "python",
   "pygments_lexer": "ipython3",
   "version": "3.13.7"
  },
  "otter": {
   "OK_FORMAT": true,
   "tests": {
    "q1a": {
     "name": "q1a",
     "points": 2,
     "suites": [
      {
       "cases": [
        {
         "code": ">>> assert get_rows_and_columns('adult.csv') == (48842, 15)\n",
         "hidden": false,
         "locked": false
        }
       ],
       "scored": true,
       "setup": "",
       "teardown": "",
       "type": "doctest"
      }
     ]
    },
    "q1b": {
     "name": "q1b",
     "points": 2,
     "suites": [
      {
       "cases": [
        {
         "code": ">>> bool(np.isclose(compute_missing_percentage(df)['age'], 0.0))\nTrue",
         "hidden": false,
         "locked": false
        },
        {
         "code": ">>> bool(np.isclose(compute_missing_percentage(df)['workclass'], 5.730724))\nTrue",
         "hidden": false,
         "locked": false
        },
        {
         "code": ">>> bool(np.isclose(compute_missing_percentage(df)['occupation'], 5.751198))\nTrue",
         "hidden": false,
         "locked": false
        },
        {
         "code": ">>> bool(np.isclose(compute_missing_percentage(df)['native-country'], 1.754637))\nTrue",
         "hidden": false,
         "locked": false
        },
        {
         "code": ">>> int(compute_missing_percentage(df).value_counts().get(0.0)) == 12\nTrue",
         "hidden": false,
         "locked": false
        }
       ],
       "scored": true,
       "setup": "",
       "teardown": "",
       "type": "doctest"
      }
     ]
    },
    "q1c": {
     "name": "q1c",
     "points": 2,
     "suites": [
      {
       "cases": [
        {
         "code": ">>> unique_occupation(df) == 15\nTrue",
         "hidden": false,
         "locked": false
        },
        {
         "code": ">>> unique_occupation(df) == 13\nFalse",
         "hidden": false,
         "locked": false
        },
        {
         "code": ">>> unique_occupation(df) == 14\nFalse",
         "hidden": false,
         "locked": false
        }
       ],
       "scored": true,
       "setup": "",
       "teardown": "",
       "type": "doctest"
      }
     ]
    },
    "q1d": {
     "name": "q1d",
     "points": 2,
     "suites": [
      {
       "cases": [
        {
         "code": ">>> categorical_column_with_max_unique_values(df) == 'native-country'\nTrue",
         "hidden": false,
         "locked": false
        },
        {
         "code": ">>> categorical_column_with_max_unique_values(df) == 'workclass'\nFalse",
         "hidden": false,
         "locked": false
        },
        {
         "code": ">>> categorical_column_with_max_unique_values(df) == 'occupation'\nFalse",
         "hidden": false,
         "locked": false
        }
       ],
       "scored": true,
       "setup": "",
       "teardown": "",
       "type": "doctest"
      }
     ]
    },
    "q3a": {
     "name": "q3a",
     "points": 4,
     "suites": [
      {
       "cases": [
        {
         "code": ">>> len(education_stats(df)) == 16\nTrue",
         "hidden": false,
         "locked": false
        },
        {
         "code": ">>> set(education_stats(df).columns) == {'education', 'age', 'hours-per-week'}\nTrue",
         "hidden": false,
         "locked": false
        },
        {
         "code": ">>> bool(np.isclose(education_stats(df).iloc[0]['age'], 37.902808))\nTrue",
         "hidden": false,
         "locked": false
        },
        {
         "code": ">>> bool(education_stats(df).iloc[1]['hours-per-week'] == 40.0)\nTrue",
         "hidden": false,
         "locked": false
        },
        {
         "code": ">>> int(education_stats(df)['hours-per-week'].value_counts().get(40.0, 0)) == 14\nTrue",
         "hidden": false,
         "locked": false
        },
        {
         "code": ">>> assert education_stats(df).iloc[13]['education'] == 'Preschool'\n",
         "hidden": false,
         "locked": false
        },
        {
         "code": ">>> assert education_stats(df).iloc[7]['education'] == 'Assoc-acdm'\n",
         "hidden": false,
         "locked": false
        }
       ],
       "scored": true,
       "setup": "",
       "teardown": "",
       "type": "doctest"
      }
     ]
    },
    "q3b": {
     "name": "q3b",
     "points": 3,
     "suites": [
      {
       "cases": [
        {
         "code": ">>> calculate_most_popular_occupation(df)[calculate_most_popular_occupation(df)['native-country'] == 'United-States']['occupation'].values[0] == 'Exec-managerial'\nTrue",
         "hidden": false,
         "locked": false
        },
        {
         "code": ">>> calculate_most_popular_occupation(df)[calculate_most_popular_occupation(df)['native-country'] == 'India']['occupation'].values[0] == 'Prof-specialty'\nTrue",
         "hidden": false,
         "locked": false
        },
        {
         "code": ">>> calculate_most_popular_occupation(df)[calculate_most_popular_occupation(df)['native-country'] == 'England']['occupation'].values[0] == 'Craft-repair'\nFalse",
         "hidden": false,
         "locked": false
        },
        {
         "code": ">>> calculate_most_popular_occupation(df)[calculate_most_popular_occupation(df)['native-country'] == 'Germany']['occupation'].values[0] == 'Exec-managerial'\nFalse",
         "hidden": false,
         "locked": false
        }
       ],
       "scored": true,
       "setup": "",
       "teardown": "",
       "type": "doctest"
      }
     ]
    },
    "q3c": {
     "name": "q3c",
     "points": 3,
     "suites": [
      {
       "cases": [
        {
         "code": ">>> bool(workclass_by_income(df)[workclass_by_income(df)['workclass'] == 'Private']['count'].values[0] == 7387)\nTrue",
         "hidden": false,
         "locked": false
        },
        {
         "code": ">>> bool(workclass_by_income(df)[workclass_by_income(df)['workclass'] == 'Federal-gov']['count'].values[0] == 561)\nTrue",
         "hidden": false,
         "locked": false
        },
        {
         "code": ">>> bool(workclass_by_income(df)[workclass_by_income(df)['workclass'] == 'Local-gov']['count'].values[0] == 920)\nFalse",
         "hidden": false,
         "locked": false
        },
        {
         "code": ">>> bool(workclass_by_income(df)[workclass_by_income(df)['workclass'] == 'Self-emp-not-inc']['count'].values[0] == 565)\nFalse",
         "hidden": false,
         "locked": false
        }
       ],
       "scored": true,
       "setup": "",
       "teardown": "",
       "type": "doctest"
      }
     ]
    },
    "q4a": {
     "name": "q4a",
     "points": 4,
     "suites": [
      {
       "cases": [
        {
         "code": ">>> def test_split_data():\n...     df_new = pd.read_csv('adult.csv').drop(columns=['native-country', 'fnlwgt']).dropna()\n...     output = split_data(df_new)\n...     assert len(output) == 4, 'split_data() should return 4 things. Make sure you pass both the X and the y to train_test_split.'\n...     (X_train, X_test, y_train, y_test) = output\n...     assert len(X_train) + len(X_test) == len(df_new), 'The splits do not add up to the original data size.'\n...     assert len(y_train) + len(y_test) == len(df_new), 'The splits do not add up to the original data size.'\n...     assert np.all(X_train.columns == X_test.columns), 'The columns in X_train and X_test are not the same.'\n...     assert len(X_train) > 0 and len(X_test) > 0, 'Some of the splits are empty. Make sure you pass the correct values to train_test_split'\n...     assert len(y_train) > 0 and len(y_test) > 0, 'Some of the splits are empty. Make sure you pass the correct values to train_test_split'\n>>> test_split_data()\n",
         "hidden": false,
         "locked": false
        }
       ],
       "scored": true,
       "setup": "",
       "teardown": "",
       "type": "doctest"
      }
     ]
    },
    "q4b": {
     "name": "q4b",
     "points": 6,
     "suites": [
      {
       "cases": [
        {
         "code": ">>> def test_correct_X():\n...     with warnings.catch_warnings():\n...         warnings.simplefilter('ignore', FutureWarning)\n...         (X_train, X_test, y_train, y_test) = split_data(df_new)\n...         (X_train, X_test, y_train, y_test) = preprocess_data(X_train, X_test, y_train, y_test)\n...     assert np.all(X_train.columns == X_test.columns), 'The columns in X_train and X_test are not the same.'\n...     assert np.allclose(np.mean(X_train), np.mean(X_test), atol=0.01), 'The mean of every column is not the same in X_train and X_test.'\n...     assert np.all((X_train >= 0) & (X_train <= 1)), 'X_train has values that are not between 0 and 1.'\n...     assert np.all((X_test >= 0) & (X_test <= 1)), 'X_test has values that are not between 0 and 1.'\n...     assert np.all((np.mean(X_train) >= 0) & (np.mean(X_train) <= 1)), 'X_train has columns with mean values not between 0 and 1.'\n...     assert np.all((np.mean(X_test) >= 0) & (np.mean(X_test) <= 1)), 'X_test has columns with mean values not between 0 and 1.'\n>>> def test_correct_y():\n...     splits = train_test_split(df_new.drop(columns='income'), df_new['income'], test_size=0.2, random_state=42)\n...     (X_train, X_test, y_train, y_test) = splits\n...     with warnings.catch_warnings():\n...         warnings.simplefilter('ignore', FutureWarning)\n...         (X_train, X_test, y_train, y_test) = preprocess_data(X_train, X_test, y_train, y_test)\n...     assert np.all(y_train.isin([0, 1])), 'y_train has values that are not 0 or 1.'\n...     assert np.all(y_test.isin([0, 1])), 'y_test has values that are not 0 or 1.'\n>>> test_correct_X()\n>>> test_correct_y()\n",
         "hidden": false,
         "locked": false
        }
       ],
       "scored": true,
       "setup": "",
       "teardown": "",
       "type": "doctest"
      }
     ]
    },
    "q4c": {
     "name": "q4c",
     "points": 5,
     "suites": [
      {
       "cases": [
        {
         "code": ">>> def test_train_model():\n...     df_new = pd.read_csv('adult.csv').drop(columns=['native-country', 'fnlwgt']).dropna()\n...     (X_train, X_test, y_train, y_test) = split_data(df_new)\n...     with warnings.catch_warnings():\n...         warnings.simplefilter('ignore')\n...         (X_train, X_test, y_train, y_test) = preprocess_data(X_train, X_test, y_train, y_test)\n...         model = train_model(X_train, y_train)\n...     return isinstance(model, LogisticRegression)\n>>> test_train_model()\nTrue",
         "hidden": false,
         "locked": false
        }
       ],
       "scored": true,
       "setup": "",
       "teardown": "",
       "type": "doctest"
      }
     ]
    },
    "q4d": {
     "name": "q4d",
     "points": 5,
     "suites": [
      {
       "cases": [
        {
         "code": ">>> def test_evaluate_model():\n...     df_new = pd.read_csv('adult.csv').drop(columns=['native-country', 'fnlwgt']).dropna()\n...     (X_train, X_test, y_train, y_test) = split_data(df_new)\n...     with warnings.catch_warnings():\n...         warnings.simplefilter('ignore')\n...         (X_train, X_test, y_train, y_test) = preprocess_data(X_train, X_test, y_train, y_test)\n...         model = train_model(X_train, y_train)\n...         model = train_model(X_train, y_train)\n...         accuracy = evaluate_model(model, X_test, y_test)\n...     return bool(np.isclose(accuracy, 0.85, atol=0.1))\n>>> test_evaluate_model()\nTrue",
         "hidden": false,
         "locked": false
        }
       ],
       "scored": true,
       "setup": "",
       "teardown": "",
       "type": "doctest"
      }
     ]
    }
   }
  }
 },
 "nbformat": 4,
 "nbformat_minor": 2
}
