{
  "nbformat": 4,
  "nbformat_minor": 0,
  "metadata": {
    "colab": {
      "provenance": [],
      "authorship_tag": "ABX9TyOxAV6Pqwb+AmY8b/M2+xDB",
      "include_colab_link": true
    },
    "kernelspec": {
      "name": "python3",
      "display_name": "Python 3"
    },
    "language_info": {
      "name": "python"
    }
  },
  "cells": [
    {
      "cell_type": "markdown",
      "metadata": {
        "id": "view-in-github",
        "colab_type": "text"
      },
      "source": [
        "<a href=\"https://colab.research.google.com/github/albhoe/701_assignments/blob/main/project/911Call.ipynb\" target=\"_parent\"><img src=\"https://colab.research.google.com/assets/colab-badge.svg\" alt=\"Open In Colab\"/></a>"
      ]
    },
    {
      "cell_type": "code",
      "execution_count": null,
      "metadata": {
        "id": "xB_iiBQSOBWu"
      },
      "outputs": [],
      "source": [
        "import numpy as np\n",
        "import pandas as pd\n",
        "import datetime\n",
        "import requests"
      ]
    },
    {
      "cell_type": "code",
      "source": [
        "def UpdateAnalyzeBoston():\n",
        "  #\"\"\"Downloads the latest 911 dispatch data and updates the DataFrame.\"\"\"\n",
        "  url = \"https://data.boston.gov/dataset/17129fad-fff9-4eac-ad74-51fb4bf63c22/resource/2459542e-7026-48e2-9128-ca29dd3bebf8/download/911-daily-dispatch-count-by-agency.csv\"\n",
        "  try:\n",
        "    response = requests.get(url)\n",
        "    response.raise_for_status()  # Raise an exception for bad status codes\n",
        "\n",
        "    # Assuming the data is a CSV, load it into a pandas DataFrame\n",
        "    with open(\"/content/911-daily-dispatch-count-by-agency.csv\", \"wb\") as f:\n",
        "      f.write(response.content)\n",
        "\n",
        "  except requests.exceptions.RequestException as e:\n",
        "    print(f\"Error downloading data: {e}\")\n",
        "  except Exception as e:\n",
        "    print(f\"An error occurred: {e}\")"
      ],
      "metadata": {
        "id": "8uTGnxbQelxe"
      },
      "execution_count": null,
      "outputs": []
    },
    {
      "cell_type": "code",
      "source": [
        "def UpdateAustinTexas():\n",
        "  #\"\"\"Downloads the latest 911 dispatch data and updates the DataFrame.\"\"\"\n",
        "  url = \"https://data.austintexas.gov/resource/fsje-8gq2.csv\"\n",
        "  try:\n",
        "    response = requests.get(url)\n",
        "    response.raise_for_status()  # Raise an exception for bad status codes\n",
        "\n",
        "    # Assuming the data is a CSV, load it into a pandas DataFrame\n",
        "    with open(\"/content/APDAverageResponseTimebyDayandHour.csv\", \"wb\") as f:\n",
        "      f.write(response.content)\n",
        "\n",
        "  except requests.exceptions.RequestException as e:\n",
        "    print(f\"Error downloading data: {e}\")\n",
        "  except Exception as e:\n",
        "    print(f\"An error occurred: {e}\")"
      ],
      "metadata": {
        "id": "mlzpgrG8h4ZW"
      },
      "execution_count": null,
      "outputs": []
    },
    {
      "cell_type": "code",
      "source": [
        "def CleanAnalyzeBoston():\n",
        "  df = pd.read_csv(\"/content/911-daily-dispatch-count-by-agency.csv\")"
      ],
      "metadata": {
        "id": "8XYPCIiPft9G"
      },
      "execution_count": null,
      "outputs": []
    },
    {
      "cell_type": "code",
      "source": [
        "t_prev_update = datetime.datetime(1,1,1)\n",
        "t_next_update = datetime.datetime(t_prev_update.year,(t_prev_update.month+1)%12,t_prev_update.day)\n",
        "\n",
        "if datetime.datetime.now() > t_next_update:\n",
        "  UpdateAnalyzeBoston()\n",
        "  t_prev_update = datetime.datetime.now()\n",
        "  t_next_update = datetime.datetime(t_prev_update.year,(t_prev_update.month+1)%12,t_prev_update.day)"
      ],
      "metadata": {
        "id": "pf82kTNpOjWK"
      },
      "execution_count": null,
      "outputs": []
    }
  ]
}