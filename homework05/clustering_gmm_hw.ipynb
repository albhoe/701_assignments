{
 "cells": [
  {
   "cell_type": "code",
   "execution_count": null,
   "metadata": {
    "deletable": false,
    "editable": false
   },
   "outputs": [],
   "source": [
    "# Initialize Otter\n",
    "import otter\n",
    "grader = otter.Notebook(\"clustering_gmm_hw.ipynb\")"
   ]
  },
  {
   "cell_type": "markdown",
   "metadata": {},
   "source": [
    "# Homework: Hierarchical Clustering and Gaussian Mixture Models\n",
    "\n",
    "## Instructions\n",
    "\n",
    "This homework will help you practice hierarchical clustering and Gaussian Mixture Models using scikit-learn. Complete all questions and run all cells. \n"
   ]
  },
  {
   "cell_type": "code",
   "execution_count": null,
   "metadata": {},
   "outputs": [],
   "source": [
    "# Run this cell to import necessary libraries\n",
    "import numpy as np\n",
    "import pandas as pd\n",
    "import matplotlib.pyplot as plt\n",
    "import seaborn as sns\n",
    "from scipy.cluster.hierarchy import dendrogram, linkage, fcluster\n",
    "from scipy.spatial.distance import pdist, squareform\n",
    "from sklearn.cluster import AgglomerativeClustering\n",
    "from sklearn.mixture import GaussianMixture\n",
    "from sklearn.datasets import make_blobs, make_moons\n",
    "from sklearn.metrics import silhouette_score, adjusted_rand_score\n",
    "from sklearn.preprocessing import StandardScaler\n",
    "# import otter\n",
    "\n",
    "# grader = otter.Notebook(\"clustering_gmm_hw.ipynb\")\n",
    "\n",
    "# Set random seed for reproducibility\n",
    "np.random.seed(42)\n",
    "\n",
    "# Plot settings\n",
    "plt.style.use('seaborn-v0_8-darkgrid')\n",
    "sns.set_palette(\"husl\")"
   ]
  },
  {
   "cell_type": "markdown",
   "metadata": {},
   "source": [
    "---\n",
    "## Part 1: Hierarchical Clustering (20 points)\n",
    "\n",
    "In this section, you'll work with wine quality data to perform hierarchical clustering.\n",
    "\n",
    "You'll be using scikit-learn's [hierarchical clustering](https://scikit-learn.org/stable/modules/clustering.html#hierarchical-clustering)."
   ]
  },
  {
   "cell_type": "code",
   "execution_count": null,
   "metadata": {},
   "outputs": [],
   "source": [
    "# Generate synthetic wine quality dataset\n",
    "np.random.seed(42)\n",
    "n_samples = 150\n",
    "\n",
    "# Create three types of wine with different characteristics\n",
    "# Type 1: High alcohol, low acidity\n",
    "wine1 = np.random.multivariate_normal(\n",
    "    mean=[13.5, 3.2, 2.8], \n",
    "    cov=[[0.3, 0.05, 0.02], [0.05, 0.2, 0.01], [0.02, 0.01, 0.15]], \n",
    "    size=50\n",
    ")\n",
    "\n",
    "# Type 2: Medium alcohol, high acidity\n",
    "wine2 = np.random.multivariate_normal(\n",
    "    mean=[11.5, 5.5, 2.2], \n",
    "    cov=[[0.25, -0.05, 0.03], [-0.05, 0.3, 0.02], [0.03, 0.02, 0.12]], \n",
    "    size=50\n",
    ")\n",
    "\n",
    "# Type 3: Low alcohol, medium acidity\n",
    "wine3 = np.random.multivariate_normal(\n",
    "    mean=[9.5, 4.2, 3.5], \n",
    "    cov=[[0.2, 0.03, -0.02], [0.03, 0.25, 0.01], [-0.02, 0.01, 0.2]], \n",
    "    size=50\n",
    ")\n",
    "\n",
    "wine_data = np.vstack([wine1, wine2, wine3])\n",
    "true_labels = np.array([0]*50 + [1]*50 + [2]*50)\n",
    "\n",
    "wine_df = pd.DataFrame(wine_data, columns=['alcohol', 'acidity', 'pH'])\n",
    "wine_df['true_type'] = true_labels\n",
    "\n",
    "print(\"Wine Dataset Shape:\", wine_df.shape)\n",
    "print(\"\\nFirst few rows:\")\n",
    "print(wine_df.head())\n",
    "\n",
    "# Visualize the data\n",
    "fig = plt.figure(figsize=(12, 4))\n",
    "ax1 = fig.add_subplot(131)\n",
    "ax1.scatter(wine_df['alcohol'], wine_df['acidity'], c=wine_df['true_type'], cmap='viridis', alpha=0.6)\n",
    "ax1.set_xlabel('Alcohol')\n",
    "ax1.set_ylabel('Acidity')\n",
    "ax1.set_title('Alcohol vs Acidity')\n",
    "\n",
    "ax2 = fig.add_subplot(132)\n",
    "ax2.scatter(wine_df['alcohol'], wine_df['pH'], c=wine_df['true_type'], cmap='viridis', alpha=0.6)\n",
    "ax2.set_xlabel('Alcohol')\n",
    "ax2.set_ylabel('pH')\n",
    "ax2.set_title('Alcohol vs pH')\n",
    "\n",
    "ax3 = fig.add_subplot(133)\n",
    "ax3.scatter(wine_df['acidity'], wine_df['pH'], c=wine_df['true_type'], cmap='viridis', alpha=0.6)\n",
    "ax3.set_xlabel('Acidity')\n",
    "ax3.set_ylabel('pH')\n",
    "ax3.set_title('Acidity vs pH')\n",
    "\n",
    "plt.tight_layout()\n",
    "plt.show()"
   ]
  },
  {
   "cell_type": "markdown",
   "metadata": {
    "deletable": false,
    "editable": false
   },
   "source": [
    "### Question 1.1: Computing Linkage Matrix (5 points)\n",
    "\n",
    "Compute the linkage matrix for the wine data using **Ward's method**. Store the result in a variable called `linkage_ward`. Use only the feature columns (alcohol, acidity, pH) - not the true_type column."
   ]
  },
  {
   "cell_type": "code",
   "execution_count": null,
   "metadata": {
    "tags": [
     "otter_answer_cell"
    ]
   },
   "outputs": [],
   "source": [
    "X_wine = wine_df[['alcohol', 'acidity', 'pH']].values\n",
    "\n",
    "linkage_ward = ..."
   ]
  },
  {
   "cell_type": "code",
   "execution_count": null,
   "metadata": {
    "deletable": false,
    "editable": false
   },
   "outputs": [],
   "source": [
    "grader.check(\"q1_1\")"
   ]
  },
  {
   "cell_type": "markdown",
   "metadata": {
    "deletable": false,
    "editable": false
   },
   "source": [
    "<!-- BEGIN QUESTION -->\n",
    "\n",
    "<!-- BEGIN QUESTION -->\n",
    "\n",
    "### Question 1.2: Visualizing the Dendrogram (5 points)\n",
    "\n",
    "Create a dendrogram from your linkage matrix. Make sure to:\n",
    "- Add appropriate title and labels\n",
    "- Use `truncate_mode='lastp'` with `p=30` to make it readable"
   ]
  },
  {
   "cell_type": "code",
   "execution_count": null,
   "metadata": {
    "tags": [
     "otter_answer_cell"
    ]
   },
   "outputs": [],
   "source": [
    "plt.figure(figsize=(12, 6))\n",
    "\n",
    "# YOUR CODE HERE\n",
    "...\n",
    "\n",
    "plt.show()\n"
   ]
  },
  {
   "cell_type": "markdown",
   "metadata": {
    "deletable": false,
    "editable": false
   },
   "source": [
    "<!-- END QUESTION -->\n",
    "\n",
    "### Question 1.3: Comparing Linkage Methods (5 points)\n",
    "\n",
    "Compare three different linkage methods (single, complete, and average) by computing the silhouette score for each when cutting the dendrogram into 3 clusters. Store your results in variables:\n",
    "- `silhouette_single`\n",
    "- `silhouette_complete`\n",
    "- `silhouette_average`"
   ]
  },
  {
   "cell_type": "code",
   "execution_count": null,
   "metadata": {
    "tags": [
     "otter_answer_cell"
    ]
   },
   "outputs": [],
   "source": [
    "# YOUR CODE HERE\n",
    "# Compute linkage for each method and get cluster labels\n",
    "\n",
    "linkage_single = ...\n",
    "linkage_complete = ...\n",
    "linkage_average = ...\n",
    "\n",
    "# Get cluster labels for k=3\n",
    "labels_single = ...\n",
    "labels_complete = ...\n",
    "labels_average = ...\n",
    "\n",
    "# Compute silhouette scores\n",
    "silhouette_single = ...\n",
    "silhouette_complete = ...\n",
    "silhouette_average = ...\n",
    "\n",
    "\n",
    "print(f\"Silhouette Score (Single): {silhouette_single:.4f}\")\n",
    "print(f\"Silhouette Score (Complete): {silhouette_complete:.4f}\")\n",
    "print(f\"Silhouette Score (Average): {silhouette_average:.4f}\")\n"
   ]
  },
  {
   "cell_type": "code",
   "execution_count": null,
   "metadata": {
    "deletable": false,
    "editable": false
   },
   "outputs": [],
   "source": [
    "grader.check(\"q1_3\")"
   ]
  },
  {
   "cell_type": "markdown",
   "metadata": {
    "deletable": false,
    "editable": false
   },
   "source": [
    "### Question 1.4: Optimal Number of Clusters (5 points)\n",
    "\n",
    "Using Ward's linkage, determine the optimal number of clusters by computing silhouette scores for k=2 to k=10. Store the silhouette scores in an array called `silhouette_scores` and the optimal number of clusters in `optimal_k`."
   ]
  },
  {
   "cell_type": "code",
   "execution_count": null,
   "metadata": {
    "tags": [
     "otter_answer_cell"
    ]
   },
   "outputs": [],
   "source": [
    "# YOUR CODE HERE\n",
    "k_range = range(2, 11)\n",
    "silhouette_scores = []\n",
    "\n",
    "for k in k_range:\n",
    "\n",
    "    labels = ...\n",
    "    score = ...\n",
    "\n",
    "    silhouette_scores.append(score)\n",
    "\n",
    "silhouette_scores = np.array(silhouette_scores)\n",
    "\n",
    "optimal_k = ...\n",
    "\n",
    "\n",
    "# Plot the results\n",
    "plt.figure(figsize=(10, 5))\n",
    "plt.plot(k_range, silhouette_scores, 'bo-')\n",
    "plt.xlabel('Number of Clusters')\n",
    "plt.ylabel('Silhouette Score')\n",
    "plt.title('Silhouette Score vs Number of Clusters')\n",
    "plt.axvline(x=optimal_k, color='r', linestyle='--', label=f'Optimal k={optimal_k}')\n",
    "plt.legend()\n",
    "plt.grid(True)\n",
    "plt.show()\n",
    "\n",
    "print(f\"Optimal number of clusters: {optimal_k}\")\n"
   ]
  },
  {
   "cell_type": "code",
   "execution_count": null,
   "metadata": {
    "deletable": false,
    "editable": false
   },
   "outputs": [],
   "source": [
    "grader.check(\"q1_4\")"
   ]
  },
  {
   "cell_type": "markdown",
   "metadata": {},
   "source": [
    "---\n",
    "## Part 2: Gaussian Mixture Models (20 points)\n",
    "\n",
    "In this section, you'll work with customer segmentation data to perform GMM clustering.\n",
    "\n",
    "You'll be using scikit-learn's [Gaussian Mixture Models](https://scikit-learn.org/stable/modules/mixture.html).  See also the [API documentation](https://scikit-learn.org/stable/modules/generated/sklearn.mixture.GaussianMixture.html#sklearn.mixture.GaussianMixture)."
   ]
  },
  {
   "cell_type": "code",
   "execution_count": null,
   "metadata": {},
   "outputs": [],
   "source": [
    "# Generate synthetic customer data\n",
    "np.random.seed(42)\n",
    "\n",
    "# Customer Segment 1: Budget shoppers (low spending, high frequency)\n",
    "segment1 = np.random.multivariate_normal(\n",
    "    mean=[30, 15], \n",
    "    cov=[[50, 10], [10, 20]], \n",
    "    size=100\n",
    ")\n",
    "\n",
    "# Customer Segment 2: Regular shoppers (medium spending, medium frequency)\n",
    "segment2 = np.random.multivariate_normal(\n",
    "    mean=[70, 10], \n",
    "    cov=[[100, -20], [-20, 15]], \n",
    "    size=150\n",
    ")\n",
    "\n",
    "# Customer Segment 3: Premium shoppers (high spending, low frequency)\n",
    "segment3 = np.random.multivariate_normal(\n",
    "    mean=[120, 6], \n",
    "    cov=[[150, -10], [-10, 10]], \n",
    "    size=80\n",
    ")\n",
    "\n",
    "customer_data = np.vstack([segment1, segment2, segment3])\n",
    "true_segments = np.array([0]*100 + [1]*150 + [2]*80)\n",
    "\n",
    "customer_df = pd.DataFrame(customer_data, columns=['spending', 'frequency'])\n",
    "customer_df['true_segment'] = true_segments\n",
    "\n",
    "print(\"Customer Dataset Shape:\", customer_df.shape)\n",
    "print(\"\\nFirst few rows:\")\n",
    "print(customer_df.head())\n",
    "\n",
    "# Visualize the data\n",
    "plt.figure(figsize=(10, 6))\n",
    "plt.scatter(customer_df['spending'], customer_df['frequency'], \n",
    "            c=customer_df['true_segment'], cmap='viridis', alpha=0.6, s=50)\n",
    "plt.xlabel('Average Spending ($)')\n",
    "plt.ylabel('Visit Frequency (per month)')\n",
    "plt.title('Customer Segments')\n",
    "plt.colorbar(label='True Segment')\n",
    "plt.show()"
   ]
  },
  {
   "cell_type": "markdown",
   "metadata": {
    "deletable": false,
    "editable": false
   },
   "source": [
    "### Question 2.1: Fitting a GMM (5 points)\n",
    "\n",
    "Fit a Gaussian Mixture Model with 3 components to the customer data. Store the fitted model in `gmm_model` and the predicted labels in `gmm_labels`. Use:\n",
    "- `n_components=3`\n",
    "- `covariance_type='full'`\n",
    "- `random_state=42`"
   ]
  },
  {
   "cell_type": "code",
   "execution_count": null,
   "metadata": {
    "tags": [
     "otter_answer_cell"
    ]
   },
   "outputs": [],
   "source": [
    "X_customer = customer_df[['spending', 'frequency']].values\n",
    "\n",
    "# YOUR CODE HERE\n",
    "...\n",
    "\n",
    "print(f\"Converged: {gmm_model.converged_}\")\n",
    "print(f\"Number of iterations: {gmm_model.n_iter_}\")\n"
   ]
  },
  {
   "cell_type": "code",
   "execution_count": null,
   "metadata": {
    "deletable": false,
    "editable": false
   },
   "outputs": [],
   "source": [
    "grader.check(\"q2_1\")"
   ]
  },
  {
   "cell_type": "markdown",
   "metadata": {
    "deletable": false,
    "editable": false
   },
   "source": [
    "<!-- BEGIN QUESTION -->\n",
    "\n",
    "### Question 2.2: Visualizing GMM Results (5 points)\n",
    "\n",
    "Create a scatter plot showing the GMM cluster assignments. Include:\n",
    "- Points colored by predicted cluster\n",
    "- Cluster centers marked with 'X'\n",
    "- Appropriate labels and title"
   ]
  },
  {
   "cell_type": "code",
   "execution_count": null,
   "metadata": {
    "tags": [
     "otter_answer_cell"
    ]
   },
   "outputs": [],
   "source": [
    "plt.figure(figsize=(10, 6))\n",
    "\n",
    "# YOUR CODE HERE\n",
    "...\n",
    "\n",
    "plt.show()\n"
   ]
  },
  {
   "cell_type": "markdown",
   "metadata": {
    "deletable": false,
    "editable": false
   },
   "source": [
    "<!-- END QUESTION -->\n",
    "\n",
    "### Question 2.3: Model Selection with BIC (5 points)\n",
    "\n",
    "Compare GMMs with different numbers of components (1 to 8) using the Bayesian Information Criterion (BIC). Store the BIC values in an array called `bic_scores` and the optimal number of components in `optimal_components`.\n",
    "\n",
    "See also the [API documentation](https://scikit-learn.org/stable/modules/generated/sklearn.mixture.GaussianMixture.html#sklearn.mixture.GaussianMixture.bic)."
   ]
  },
  {
   "cell_type": "code",
   "execution_count": null,
   "metadata": {
    "tags": [
     "otter_answer_cell"
    ]
   },
   "outputs": [],
   "source": [
    "# YOUR CODE HERE\n",
    "n_components_range = range(1, 9)\n",
    "bic_scores = []\n",
    "\n",
    "for n in n_components_range:\n",
    "\n",
    "    gmm = ...\n",
    "    ...\n",
    "    bic = ...\n",
    "\n",
    "    bic_scores.append(bic)\n",
    "\n",
    "bic_scores = np.array(bic_scores)\n",
    "\n",
    "optimal_components = ...\n",
    "\n",
    "\n",
    "# Plot BIC scores\n",
    "plt.figure(figsize=(10, 5))\n",
    "plt.plot(n_components_range, bic_scores, 'ro-')\n",
    "plt.xlabel('Number of Components')\n",
    "plt.ylabel('BIC Score')\n",
    "plt.title('BIC Score vs Number of Components')\n",
    "plt.axvline(x=optimal_components, color='g', linestyle='--', \n",
    "            label=f'Optimal n={optimal_components}')\n",
    "plt.legend()\n",
    "plt.grid(True)\n",
    "plt.show()\n",
    "\n",
    "print(f\"Optimal number of components: {optimal_components}\")\n"
   ]
  },
  {
   "cell_type": "code",
   "execution_count": null,
   "metadata": {
    "deletable": false,
    "editable": false
   },
   "outputs": [],
   "source": [
    "grader.check(\"q2_3\")"
   ]
  },
  {
   "cell_type": "markdown",
   "metadata": {
    "deletable": false,
    "editable": false
   },
   "source": [
    "### Question 2.4: Comparing Covariance Types (5 points)\n",
    "\n",
    "Compare GMMs with 3 components using different covariance types ('full', 'tied', 'diag', 'spherical'). Compute the BIC for each and store the results in a dictionary called `covariance_bic` with keys as covariance types and values as BIC scores."
   ]
  },
  {
   "cell_type": "code",
   "execution_count": null,
   "metadata": {
    "tags": [
     "otter_answer_cell"
    ]
   },
   "outputs": [],
   "source": [
    "# YOUR CODE HERE\n",
    "covariance_types = ['full', 'tied', 'diag', 'spherical']\n",
    "covariance_bic = {}\n",
    "\n",
    "for cov_type in covariance_types:\n",
    "\n",
    "    gmm = ...\n",
    "    ...\n",
    "    covariance_bic[cov_type] = ...\n",
    "\n",
    "\n",
    "# Plot comparison\n",
    "plt.figure(figsize=(10, 5))\n",
    "plt.bar(covariance_bic.keys(), covariance_bic.values())\n",
    "plt.xlabel('Covariance Type')\n",
    "plt.ylabel('BIC Score')\n",
    "plt.title('BIC Score by Covariance Type (3 components)')\n",
    "plt.grid(axis='y')\n",
    "plt.show()\n",
    "\n",
    "print(\"BIC Scores by Covariance Type:\")\n",
    "for cov_type, bic in covariance_bic.items():\n",
    "    print(f\"{cov_type}: {bic:.2f}\")\n"
   ]
  },
  {
   "cell_type": "code",
   "execution_count": null,
   "metadata": {
    "deletable": false,
    "editable": false
   },
   "outputs": [],
   "source": [
    "grader.check(\"q2_4\")"
   ]
  },
  {
   "cell_type": "markdown",
   "metadata": {
    "deletable": false,
    "editable": false
   },
   "source": [
    "---\n",
    "## Question 3: GMM vs K-means (5 points)\n",
    "\n",
    "Compare GMM and K-means clustering on non-spherical data. Compute the Adjusted Rand Index (ARI) for both methods and store them in `ari_gmm` and `ari_kmeans`."
   ]
  },
  {
   "cell_type": "code",
   "execution_count": null,
   "metadata": {
    "deletable": false,
    "editable": false
   },
   "outputs": [],
   "source": [
    "# Number of samples of larger component\n",
    "n_samples = 1000\n",
    "\n",
    "# C is a transfomation that will make a heavily skewed 2-D Gaussian\n",
    "C = np.array([[0.1, -0.1], [1.7, .8]])\n",
    "\n",
    "import warnings\n",
    "warnings.filterwarnings('ignore')\n",
    "\n",
    "rng = np.random.default_rng(0)\n",
    "\n",
    "# now we construct a data matrix that has n_samples from the skewed distribution,\n",
    "# and n_samples/2 from a symmetric distribution offset to position (-3, 1)\n",
    "X = np.r_[(rng.standard_normal((n_samples, 2)) @ C),\n",
    "          .7 * rng.standard_normal((n_samples//2, 2)) + np.array([-2, 1])]\n",
    "y = np.array([0] * n_samples + [1] * (n_samples//2))\n",
    "\n",
    "plt.scatter(X[:, 0], X[:, 1], s = 10, alpha = 0.8, c=y, cmap='viridis')\n",
    "plt.axis('equal')\n",
    "plt.axis('off')\n",
    "plt.show()"
   ]
  },
  {
   "cell_type": "code",
   "execution_count": null,
   "metadata": {
    "tags": [
     "otter_answer_cell"
    ]
   },
   "outputs": [],
   "source": [
    "# YOUR CODE HERE\n",
    "from sklearn.cluster import KMeans\n",
    "\n",
    "# Fit GMM\n",
    "\n",
    "gmm_moons = ...\n",
    "...\n",
    "labels_gmm = ...\n",
    "\n",
    "# Fit K-means\n",
    "kmeans_moons = ...\n",
    "...\n",
    "labels_kmeans = ...\n",
    "\n",
    "# Compute ARI\n",
    "ari_gmm = ...\n",
    "ari_kmeans = ...\n",
    "\n",
    "\n",
    "print(f\"GMM ARI: {ari_gmm:.4f}\")\n",
    "print(f\"K-means ARI: {ari_kmeans:.4f}\")\n",
    "\n",
    "# Visualize results\n",
    "fig, axes = plt.subplots(1, 2, figsize=(14, 5))\n",
    "axes[0].scatter(X[:, 0], X[:, 1], c=labels_gmm, cmap='viridis', alpha=0.6)\n",
    "axes[0].set_title(f'GMM (ARI={ari_gmm:.3f})')\n",
    "axes[1].scatter(X[:, 0], X[:, 1], c=labels_kmeans, cmap='viridis', alpha=0.6)\n",
    "axes[1].set_title(f'K-means (ARI={ari_kmeans:.3f})')\n",
    "plt.tight_layout()\n",
    "plt.show()\n"
   ]
  },
  {
   "cell_type": "code",
   "execution_count": null,
   "metadata": {
    "deletable": false,
    "editable": false
   },
   "outputs": [],
   "source": [
    "grader.check(\"q3\")"
   ]
  },
  {
   "cell_type": "markdown",
   "metadata": {
    "deletable": false,
    "editable": false
   },
   "source": [
    "## Submission\n",
    "\n",
    "Make sure you have run all cells in your notebook in order before running the cell below, so that all images/graphs appear in the output. The cell below will generate a zip file for you to submit. **Please save before exporting!**\n",
    "\n",
    "Execute all cells and save the notebook before submitting."
   ]
  },
  {
   "cell_type": "code",
   "execution_count": null,
   "metadata": {
    "deletable": false,
    "editable": false
   },
   "outputs": [],
   "source": [
    "# Save your notebook first, then run this cell to export your submission.\n",
    "grader.export(run_tests=True)"
   ]
  },
  {
   "cell_type": "markdown",
   "metadata": {},
   "source": [
    " "
   ]
  }
 ],
 "metadata": {
  "kernelspec": {
   "display_name": ".venv",
   "language": "python",
   "name": "python3"
  },
  "language_info": {
   "codemirror_mode": {
    "name": "ipython",
    "version": 3
   },
   "file_extension": ".py",
   "mimetype": "text/x-python",
   "name": "python",
   "nbconvert_exporter": "python",
   "pygments_lexer": "ipython3",
   "version": "3.10.17"
  },
  "otter": {
   "OK_FORMAT": true,
   "tests": {
    "q1_1": {
     "name": "q1_1",
     "points": 5,
     "suites": [
      {
       "cases": [
        {
         "code": ">>> assert linkage_ward is not None, 'linkage_ward should not be None'\n>>> assert linkage_ward.shape == (149, 4), 'linkage_ward should have shape (149, 4)'\n>>> assert isinstance(linkage_ward, np.ndarray), 'linkage_ward should be a numpy array'\n",
         "hidden": false,
         "locked": false
        }
       ],
       "scored": true,
       "setup": "",
       "teardown": "",
       "type": "doctest"
      }
     ]
    },
    "q1_3": {
     "name": "q1_3",
     "points": 5,
     "suites": [
      {
       "cases": [
        {
         "code": ">>> assert isinstance(silhouette_single, (float, np.floating)), 'silhouette_single should be a float'\n>>> assert isinstance(silhouette_complete, (float, np.floating)), 'silhouette_complete should be a float'\n>>> assert isinstance(silhouette_average, (float, np.floating)), 'silhouette_average should be a float'\n>>> assert -1 <= silhouette_single <= 1, 'silhouette_single should be between -1 and 1'\n>>> assert -1 <= silhouette_complete <= 1, 'silhouette_complete should be between -1 and 1'\n>>> assert -1 <= silhouette_average <= 1, 'silhouette_average should be between -1 and 1'\n>>> assert silhouette_complete > 0.4, 'silhouette_complete should be reasonably high for this data'\n",
         "hidden": false,
         "locked": false
        }
       ],
       "scored": true,
       "setup": "",
       "teardown": "",
       "type": "doctest"
      }
     ]
    },
    "q1_4": {
     "name": "q1_4",
     "points": 5,
     "suites": [
      {
       "cases": [
        {
         "code": ">>> assert isinstance(silhouette_scores, np.ndarray), 'silhouette_scores should be a numpy array'\n>>> assert len(silhouette_scores) == 9, 'silhouette_scores should have 9 elements (k=2 to k=10)'\n>>> assert isinstance(optimal_k, (int, np.integer)), 'optimal_k should be an integer'\n>>> assert 2 <= optimal_k <= 10, 'optimal_k should be between 2 and 10'\n>>> assert optimal_k == 3, 'optimal_k should be 3 for this wine dataset'\n",
         "hidden": false,
         "locked": false
        }
       ],
       "scored": true,
       "setup": "",
       "teardown": "",
       "type": "doctest"
      }
     ]
    },
    "q2_1": {
     "name": "q2_1",
     "points": 5,
     "suites": [
      {
       "cases": [
        {
         "code": ">>> assert gmm_model is not None, 'gmm_model should not be None'\n>>> assert gmm_model.n_components == 3, 'gmm_model should have 3 components'\n>>> assert gmm_model.covariance_type == 'full', \"gmm_model should use 'full' covariance type\"\n>>> assert gmm_model.converged_, 'gmm_model should have converged'\n>>> assert len(gmm_labels) == len(X_customer), 'gmm_labels should have the same length as X_customer'\n>>> assert set(gmm_labels) <= {0, 1, 2}, 'gmm_labels should only contain 0, 1, or 2'\n",
         "hidden": false,
         "locked": false
        }
       ],
       "scored": true,
       "setup": "",
       "teardown": "",
       "type": "doctest"
      }
     ]
    },
    "q2_3": {
     "name": "q2_3",
     "points": 5,
     "suites": [
      {
       "cases": [
        {
         "code": ">>> assert isinstance(bic_scores, np.ndarray), 'bic_scores should be a numpy array'\n>>> assert len(bic_scores) == 8, 'bic_scores should have 8 elements (n=1 to n=8)'\n>>> assert isinstance(optimal_components, (int, np.integer)), 'optimal_components should be an integer'\n>>> assert 1 <= optimal_components <= 8, 'optimal_components should be between 1 and 8'\n>>> assert optimal_components == 3, 'optimal_components should be 3 for this customer dataset'\n",
         "hidden": false,
         "locked": false
        }
       ],
       "scored": true,
       "setup": "",
       "teardown": "",
       "type": "doctest"
      }
     ]
    },
    "q2_4": {
     "name": "q2_4",
     "points": 5,
     "suites": [
      {
       "cases": [
        {
         "code": ">>> assert isinstance(covariance_bic, dict), 'covariance_bic should be a dictionary'\n>>> assert set(covariance_bic.keys()) == {'full', 'tied', 'diag', 'spherical'}, 'covariance_bic should have all 4 covariance types'\n>>> assert all((isinstance(v, (float, np.floating)) for v in covariance_bic.values())), 'All BIC values should be floats'\n>>> assert all((v > 0 for v in covariance_bic.values())), 'All BIC values should be positive'\n",
         "hidden": false,
         "locked": false
        }
       ],
       "scored": true,
       "setup": "",
       "teardown": "",
       "type": "doctest"
      }
     ]
    },
    "q3": {
     "name": "q3",
     "points": 5,
     "suites": [
      {
       "cases": [
        {
         "code": ">>> assert isinstance(ari_gmm, (float, np.floating)), 'ari_gmm should be a float'\n>>> assert isinstance(ari_kmeans, (float, np.floating)), 'ari_kmeans should be a float'\n>>> assert -1 <= ari_gmm <= 1, 'ari_gmm should be between -1 and 1'\n>>> assert -1 <= ari_kmeans <= 1, 'ari_kmeans should be between -1 and 1'\n>>> assert ari_gmm > 0.9, 'ari_gmm should show some clustering ability'\n>>> assert ari_kmeans > 0.1, 'ari_kmeans should show some clustering ability'\n",
         "hidden": false,
         "locked": false
        }
       ],
       "scored": true,
       "setup": "",
       "teardown": "",
       "type": "doctest"
      }
     ]
    }
   }
  }
 },
 "nbformat": 4,
 "nbformat_minor": 4
}
